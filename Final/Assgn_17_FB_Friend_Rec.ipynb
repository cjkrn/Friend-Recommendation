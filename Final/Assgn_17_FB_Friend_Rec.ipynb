{
  "cells": [
    {
      "cell_type": "markdown",
      "metadata": {
        "id": "naWvqMEMHglO"
      },
      "source": [
        "<p style=\"font-size:32px;text-align:center\"> <b>Social network Graph Link Prediction - Facebook Challenge</b> </p>"
      ]
    },
    {
      "cell_type": "code",
      "execution_count": null,
      "metadata": {
        "id": "9wb9N5RzHglP"
      },
      "outputs": [],
      "source": [
        "#Importing Libraries\n",
        "# please do go through this python notebook: \n",
        "import warnings\n",
        "warnings.filterwarnings(\"ignore\")\n",
        "\n",
        "import csv\n",
        "import pandas as pd#pandas to create small dataframes \n",
        "import datetime #Convert to unix time\n",
        "import time #Convert to unix time\n",
        "# if numpy is not installed already : pip3 install numpy\n",
        "import numpy as np#Do aritmetic operations on arrays\n",
        "# matplotlib: used to plot graphs\n",
        "import matplotlib\n",
        "import matplotlib.pylab as plt\n",
        "import seaborn as sns#Plots\n",
        "from matplotlib import rcParams#Size of plots  \n",
        "from sklearn.cluster import MiniBatchKMeans, KMeans#Clustering\n",
        "import math\n",
        "import pickle\n",
        "import os\n",
        "# to install xgboost: pip3 install xgboost\n",
        "import xgboost as xgb\n",
        "\n",
        "import warnings\n",
        "import networkx as nx\n",
        "import pdb\n",
        "import pickle\n",
        "from pandas import HDFStore,DataFrame\n",
        "from pandas import read_hdf\n",
        "from scipy.sparse.linalg import svds, eigs\n",
        "import gc\n",
        "from tqdm import tqdm\n",
        "from sklearn.ensemble import RandomForestClassifier\n",
        "from sklearn.metrics import f1_score"
      ]
    },
    {
      "cell_type": "code",
      "execution_count": null,
      "metadata": {
        "colab": {
          "base_uri": "https://localhost:8080/"
        },
        "id": "eip4Bj26n7b8",
        "outputId": "49e4de39-719f-44b3-966e-77e2224f0156"
      },
      "outputs": [
        {
          "output_type": "stream",
          "name": "stdout",
          "text": [
            "Requirement already satisfied: gdown in /usr/local/lib/python3.7/dist-packages (4.4.0)\n",
            "Requirement already satisfied: filelock in /usr/local/lib/python3.7/dist-packages (from gdown) (3.7.0)\n",
            "Requirement already satisfied: tqdm in /usr/local/lib/python3.7/dist-packages (from gdown) (4.64.0)\n",
            "Requirement already satisfied: beautifulsoup4 in /usr/local/lib/python3.7/dist-packages (from gdown) (4.6.3)\n",
            "Requirement already satisfied: requests[socks] in /usr/local/lib/python3.7/dist-packages (from gdown) (2.23.0)\n",
            "Requirement already satisfied: six in /usr/local/lib/python3.7/dist-packages (from gdown) (1.15.0)\n",
            "Requirement already satisfied: certifi>=2017.4.17 in /usr/local/lib/python3.7/dist-packages (from requests[socks]->gdown) (2021.10.8)\n",
            "Requirement already satisfied: idna<3,>=2.5 in /usr/local/lib/python3.7/dist-packages (from requests[socks]->gdown) (2.10)\n",
            "Requirement already satisfied: chardet<4,>=3.0.2 in /usr/local/lib/python3.7/dist-packages (from requests[socks]->gdown) (3.0.4)\n",
            "Requirement already satisfied: urllib3!=1.25.0,!=1.25.1,<1.26,>=1.21.1 in /usr/local/lib/python3.7/dist-packages (from requests[socks]->gdown) (1.24.3)\n",
            "Requirement already satisfied: PySocks!=1.5.7,>=1.5.6 in /usr/local/lib/python3.7/dist-packages (from requests[socks]->gdown) (1.7.1)\n"
          ]
        }
      ],
      "source": [
        "!pip install gdown"
      ]
    },
    {
      "cell_type": "code",
      "execution_count": null,
      "metadata": {
        "colab": {
          "base_uri": "https://localhost:8080/"
        },
        "id": "FYq99Gh6n_6S",
        "outputId": "26bacca9-a19e-44da-80fa-1fade86e5a6e"
      },
      "outputs": [
        {
          "output_type": "stream",
          "name": "stdout",
          "text": [
            "Retrieving folder list\n",
            "Retrieving folder 1pEBmIl1tbuwYrsfeUv2KDz8a2gR0Fjxe data\n",
            "Retrieving folder 1ONG0P5YAMlkzyKB7VugPKtLs9fXcdmRx after_eda\n",
            "Processing file 1XNxqMI6qyXYhi2XVVRIxqD11hKgh2oja missing_edges_final.p\n",
            "Processing file 1_KN7S8zfHdrkRjRYOEtBxBVq8JrGxPXD test_after_eda.csv\n",
            "Processing file 1yynFkCz80RcbTgPylw8cdZ37qEsfxmGV test_neg_after_eda.csv\n",
            "Processing file 1yldY87HoO-XyfCJqyFqyi7QKeJkhMXgB test_pos_after_eda.csv\n",
            "Processing file 1lcxzVZ0-MkPmoH3lS35Q8rRfrecKSXb1 train_after_eda.csv\n",
            "Processing file 1qNhcor22jE5gJ_NfKATx_18oKYOKPy7_ train_neg_after_eda.csv\n",
            "Processing file 1XLHsIRXKLx9TA9nuC1SS7JDkLyRVmo69 train_pos_after_eda.csv\n",
            "Processing file 1c5omWa9D1b4iQ28tiDfMs4wglhKKLA9X train_woheader.csv\n",
            "Retrieving folder 1qYtDPghLMT6rv3xd7NmQUSUKWwCS5375 fea_sample\n",
            "Processing file 1YVVHZvqfopWwLeAdIu5-oHGocS7CmCZR hits.p\n",
            "Processing file 1Xp7QmNsdVF6BN0IumLGlfUOyr3IAJyjn katz.p\n",
            "Processing file 1hp-5BFw9xK1WmovBW17T5POa1BbGSk9N page_rank.p\n",
            "Processing file 1pIO_nOg9XU0WUD10brRvrgyUXbY5gqMs storage_sample_stage1.h5\n",
            "Processing file 10qJ04GRcaDxc16gmJXb8rpGPmlyys7E2 storage_sample_stage2.h5\n",
            "Processing file 10M-HFdUMelv6HT6m4RacJJWbNjQ_PkjC storage_sample_stage3.h5\n",
            "Processing file 1fDJptlCFEWNV5UNGPc4geTykgFI3PDCV storage_sample_stage4.h5\n",
            "Processing file 1H6qybuXr8i_USWu3k3ulXEOurc-SElUh test_y.csv\n",
            "Processing file 19mviN_yeJIfakb4kU5NfKdQlOQtaQ-kH train_y.csv\n",
            "Processing file 1l1adJnTgeHULVuoLdTRyqi25-z6shBSL train.csv\n",
            "Processing file 1kVpz3lays4hw-tzyQmjfZ4YuhGzbV2ca FB_EDA.ipynb\n",
            "Processing file 1rQgKqdUvwGvHpWUYCs1b9sIRGYgsQJT4 FB_featurization.ipynb\n",
            "Processing file 1HI7l4Bxi-Mi5TzeQmiShPDhs34F2LDFN FB_Models.ipynb\n",
            "Retrieving folder list completed\n",
            "Building directory structure\n",
            "Building directory structure completed\n",
            "Downloading...\n",
            "From: https://drive.google.com/uc?id=1XNxqMI6qyXYhi2XVVRIxqD11hKgh2oja\n",
            "To: /content/gdrive/MyDrive/Assignments AAIC/Assignment 17 FB Friend Recommendation/Facebook/data/after_eda/missing_edges_final.p\n",
            "100% 150M/150M [00:01<00:00, 136MB/s]\n",
            "Downloading...\n",
            "From: https://drive.google.com/uc?id=1_KN7S8zfHdrkRjRYOEtBxBVq8JrGxPXD\n",
            "To: /content/gdrive/MyDrive/Assignments AAIC/Assignment 17 FB Friend Recommendation/Facebook/data/after_eda/test_after_eda.csv\n",
            "100% 59.7M/59.7M [00:00<00:00, 153MB/s]\n",
            "Downloading...\n",
            "From: https://drive.google.com/uc?id=1yynFkCz80RcbTgPylw8cdZ37qEsfxmGV\n",
            "To: /content/gdrive/MyDrive/Assignments AAIC/Assignment 17 FB Friend Recommendation/Facebook/data/after_eda/test_neg_after_eda.csv\n",
            "100% 29.8M/29.8M [00:00<00:00, 71.8MB/s]\n",
            "Downloading...\n",
            "From: https://drive.google.com/uc?id=1yldY87HoO-XyfCJqyFqyi7QKeJkhMXgB\n",
            "To: /content/gdrive/MyDrive/Assignments AAIC/Assignment 17 FB Friend Recommendation/Facebook/data/after_eda/test_pos_after_eda.csv\n",
            "100% 29.8M/29.8M [00:00<00:00, 54.3MB/s]\n",
            "Downloading...\n",
            "From: https://drive.google.com/uc?id=1lcxzVZ0-MkPmoH3lS35Q8rRfrecKSXb1\n",
            "To: /content/gdrive/MyDrive/Assignments AAIC/Assignment 17 FB Friend Recommendation/Facebook/data/after_eda/train_after_eda.csv\n",
            "100% 239M/239M [00:02<00:00, 84.2MB/s]\n",
            "Downloading...\n",
            "From: https://drive.google.com/uc?id=1qNhcor22jE5gJ_NfKATx_18oKYOKPy7_\n",
            "To: /content/gdrive/MyDrive/Assignments AAIC/Assignment 17 FB Friend Recommendation/Facebook/data/after_eda/train_neg_after_eda.csv\n",
            "100% 119M/119M [00:01<00:00, 82.6MB/s]\n",
            "Downloading...\n",
            "From: https://drive.google.com/uc?id=1XLHsIRXKLx9TA9nuC1SS7JDkLyRVmo69\n",
            "To: /content/gdrive/MyDrive/Assignments AAIC/Assignment 17 FB Friend Recommendation/Facebook/data/after_eda/train_pos_after_eda.csv\n",
            "100% 119M/119M [00:01<00:00, 89.2MB/s]\n",
            "Downloading...\n",
            "From: https://drive.google.com/uc?id=1c5omWa9D1b4iQ28tiDfMs4wglhKKLA9X\n",
            "To: /content/gdrive/MyDrive/Assignments AAIC/Assignment 17 FB Friend Recommendation/Facebook/data/after_eda/train_woheader.csv\n",
            "100% 149M/149M [00:01<00:00, 95.3MB/s]\n",
            "Downloading...\n",
            "From: https://drive.google.com/uc?id=1YVVHZvqfopWwLeAdIu5-oHGocS7CmCZR\n",
            "To: /content/gdrive/MyDrive/Assignments AAIC/Assignment 17 FB Friend Recommendation/Facebook/data/fea_sample/hits.p\n",
            "100% 49.6M/49.6M [00:02<00:00, 20.1MB/s]\n",
            "Downloading...\n",
            "From: https://drive.google.com/uc?id=1Xp7QmNsdVF6BN0IumLGlfUOyr3IAJyjn\n",
            "To: /content/gdrive/MyDrive/Assignments AAIC/Assignment 17 FB Friend Recommendation/Facebook/data/fea_sample/katz.p\n",
            "100% 24.8M/24.8M [00:00<00:00, 29.8MB/s]\n",
            "Downloading...\n",
            "From: https://drive.google.com/uc?id=1hp-5BFw9xK1WmovBW17T5POa1BbGSk9N\n",
            "To: /content/gdrive/MyDrive/Assignments AAIC/Assignment 17 FB Friend Recommendation/Facebook/data/fea_sample/page_rank.p\n",
            "100% 24.8M/24.8M [00:00<00:00, 87.5MB/s]\n",
            "Downloading...\n",
            "From: https://drive.google.com/uc?id=1pIO_nOg9XU0WUD10brRvrgyUXbY5gqMs\n",
            "To: /content/gdrive/MyDrive/Assignments AAIC/Assignment 17 FB Friend Recommendation/Facebook/data/fea_sample/storage_sample_stage1.h5\n",
            "100% 17.7M/17.7M [00:00<00:00, 72.1MB/s]\n",
            "Downloading...\n",
            "From: https://drive.google.com/uc?id=10qJ04GRcaDxc16gmJXb8rpGPmlyys7E2\n",
            "To: /content/gdrive/MyDrive/Assignments AAIC/Assignment 17 FB Friend Recommendation/Facebook/data/fea_sample/storage_sample_stage2.h5\n",
            "100% 22.9M/22.9M [00:00<00:00, 178MB/s]\n",
            "Downloading...\n",
            "From: https://drive.google.com/uc?id=10M-HFdUMelv6HT6m4RacJJWbNjQ_PkjC\n",
            "To: /content/gdrive/MyDrive/Assignments AAIC/Assignment 17 FB Friend Recommendation/Facebook/data/fea_sample/storage_sample_stage3.h5\n",
            "100% 48.0M/48.0M [00:00<00:00, 172MB/s]\n",
            "Downloading...\n",
            "From: https://drive.google.com/uc?id=1fDJptlCFEWNV5UNGPc4geTykgFI3PDCV\n",
            "To: /content/gdrive/MyDrive/Assignments AAIC/Assignment 17 FB Friend Recommendation/Facebook/data/fea_sample/storage_sample_stage4.h5\n",
            "100% 103M/103M [00:00<00:00, 163MB/s] \n",
            "Downloading...\n",
            "From: https://drive.google.com/uc?id=1H6qybuXr8i_USWu3k3ulXEOurc-SElUh\n",
            "To: /content/gdrive/MyDrive/Assignments AAIC/Assignment 17 FB Friend Recommendation/Facebook/data/test_y.csv\n",
            "100% 11.3M/11.3M [00:00<00:00, 80.5MB/s]\n",
            "Downloading...\n",
            "From: https://drive.google.com/uc?id=19mviN_yeJIfakb4kU5NfKdQlOQtaQ-kH\n",
            "To: /content/gdrive/MyDrive/Assignments AAIC/Assignment 17 FB Friend Recommendation/Facebook/data/train_y.csv\n",
            "100% 45.3M/45.3M [00:00<00:00, 141MB/s]\n",
            "Downloading...\n",
            "From: https://drive.google.com/uc?id=1l1adJnTgeHULVuoLdTRyqi25-z6shBSL\n",
            "To: /content/gdrive/MyDrive/Assignments AAIC/Assignment 17 FB Friend Recommendation/Facebook/data/train.csv\n",
            "100% 149M/149M [00:01<00:00, 115MB/s]\n",
            "Downloading...\n",
            "From: https://drive.google.com/uc?id=1kVpz3lays4hw-tzyQmjfZ4YuhGzbV2ca\n",
            "To: /content/gdrive/MyDrive/Assignments AAIC/Assignment 17 FB Friend Recommendation/Facebook/FB_EDA.ipynb\n",
            "100% 299k/299k [00:00<00:00, 69.4MB/s]\n",
            "Downloading...\n",
            "From: https://drive.google.com/uc?id=1rQgKqdUvwGvHpWUYCs1b9sIRGYgsQJT4\n",
            "To: /content/gdrive/MyDrive/Assignments AAIC/Assignment 17 FB Friend Recommendation/Facebook/FB_featurization.ipynb\n",
            "100% 88.3k/88.3k [00:00<00:00, 31.8MB/s]\n",
            "Downloading...\n",
            "From: https://drive.google.com/uc?id=1HI7l4Bxi-Mi5TzeQmiShPDhs34F2LDFN\n",
            "To: /content/gdrive/MyDrive/Assignments AAIC/Assignment 17 FB Friend Recommendation/Facebook/FB_Models.ipynb\n",
            "100% 147k/147k [00:00<00:00, 66.7MB/s]\n",
            "Download completed\n"
          ]
        }
      ],
      "source": [
        "# !gdown --folder https://drive.google.com/drive/folders/1c50Q5RcmdpMYj1jCPc3ShOE2y4G8G2ez"
      ]
    },
    {
      "cell_type": "code",
      "execution_count": null,
      "metadata": {
        "colab": {
          "base_uri": "https://localhost:8080/"
        },
        "id": "ReuQGYJUsRxn",
        "outputId": "7c035110-ccd9-444d-e186-04442baa6f24"
      },
      "outputs": [
        {
          "output_type": "stream",
          "name": "stdout",
          "text": [
            "--2022-05-20 12:09:49--  https://doc-0o-bk-docs.googleusercontent.com/docs/securesc/nss2f5s2soorprev6d4t4qp3n5ekp9nh/evl2j2j4t5hronicnhsbdlsblnbl9qk3/1622116650000/06629147635963609455/13017565264516993811/1fDJptlCFEWNV5UNGPc4geTykgFI3PDCV?e=download&authuser=0&nonce=iak2ig7rpq664&user=13017565264516993811&hash=fvl5s6dohfnqle6k8q3koe9jr2mhe6jr\n",
            "Resolving doc-0o-bk-docs.googleusercontent.com (doc-0o-bk-docs.googleusercontent.com)... 108.177.12.132, 2607:f8b0:400c:c08::84\n",
            "Connecting to doc-0o-bk-docs.googleusercontent.com (doc-0o-bk-docs.googleusercontent.com)|108.177.12.132|:443... connected.\n",
            "HTTP request sent, awaiting response... 403 Forbidden\n",
            "2022-05-20 12:09:49 ERROR 403: Forbidden.\n",
            "\n"
          ]
        }
      ],
      "source": [
        "# !wget --header=\"Host: doc-0o-bk-docs.googleusercontent.com\" --header=\"User-Agent: Mozilla/5.0 (Windows NT 10.0; Win64; x64) AppleWebKit/537.36 (KHTML, like Gecko) Chrome/90.0.4430.212 Safari/537.36\" --header=\"Accept: text/html,application/xhtml+xml,application/xml;q=0.9,image/avif,image/webp,image/apng,*/*;q=0.8,application/signed-exchange;v=b3;q=0.9\" --header=\"Accept-Language: en-US,en;q=0.9\" --header=\"Cookie: AUTH_nso6dcn1mbidkt5qr539a2jiefc09pqv_nonce=iak2ig7rpq664\" --header=\"Connection: keep-alive\" \"https://doc-0o-bk-docs.googleusercontent.com/docs/securesc/nss2f5s2soorprev6d4t4qp3n5ekp9nh/evl2j2j4t5hronicnhsbdlsblnbl9qk3/1622116650000/06629147635963609455/13017565264516993811/1fDJptlCFEWNV5UNGPc4geTykgFI3PDCV?e=download&authuser=0&nonce=iak2ig7rpq664&user=13017565264516993811&hash=fvl5s6dohfnqle6k8q3koe9jr2mhe6jr\" -c -O 'storage_sample_stage4.h5'"
      ]
    },
    {
      "cell_type": "code",
      "execution_count": null,
      "metadata": {
        "colab": {
          "base_uri": "https://localhost:8080/"
        },
        "id": "-gODW6C7o_Tx",
        "outputId": "800f7a9b-73e7-4ebb-edec-a0756cbc6634"
      },
      "outputs": [
        {
          "output_type": "stream",
          "name": "stdout",
          "text": [
            "/content/Facebook/data/fea_sample\n",
            "/content/Facebook/data/fea_sample/Facebook/data/fea_sample\n"
          ]
        }
      ],
      "source": [
        "! pwd\n",
        "%cd /content/Facebook/data/fea_sample/Facebook/data/fea_sample"
      ]
    },
    {
      "cell_type": "code",
      "execution_count": null,
      "metadata": {
        "id": "XC4OJFKkHglU"
      },
      "outputs": [],
      "source": [
        "#reading\n",
        "from pandas import read_hdf\n",
        "df_final_train = read_hdf('storage_sample_stage4.h5', 'train_df',mode='r')\n",
        "df_final_test = read_hdf('storage_sample_stage4.h5', 'test_df',mode='r')"
      ]
    },
    {
      "cell_type": "code",
      "execution_count": null,
      "metadata": {
        "colab": {
          "base_uri": "https://localhost:8080/"
        },
        "id": "5Gm-BHRkHglW",
        "outputId": "305c6266-040e-4cdd-cb4e-50e2c5622f11"
      },
      "outputs": [
        {
          "output_type": "execute_result",
          "data": {
            "text/plain": [
              "Index(['source_node', 'destination_node', 'indicator_link',\n",
              "       'jaccard_followers', 'jaccard_followees', 'cosine_followers',\n",
              "       'cosine_followees', 'num_followers_s', 'num_followees_s',\n",
              "       'num_followees_d', 'inter_followers', 'inter_followees', 'adar_index',\n",
              "       'follows_back', 'same_comp', 'shortest_path', 'weight_in', 'weight_out',\n",
              "       'weight_f1', 'weight_f2', 'weight_f3', 'weight_f4', 'page_rank_s',\n",
              "       'page_rank_d', 'katz_s', 'katz_d', 'hubs_s', 'hubs_d', 'authorities_s',\n",
              "       'authorities_d', 'svd_u_s_1', 'svd_u_s_2', 'svd_u_s_3', 'svd_u_s_4',\n",
              "       'svd_u_s_5', 'svd_u_s_6', 'svd_u_d_1', 'svd_u_d_2', 'svd_u_d_3',\n",
              "       'svd_u_d_4', 'svd_u_d_5', 'svd_u_d_6', 'svd_v_s_1', 'svd_v_s_2',\n",
              "       'svd_v_s_3', 'svd_v_s_4', 'svd_v_s_5', 'svd_v_s_6', 'svd_v_d_1',\n",
              "       'svd_v_d_2', 'svd_v_d_3', 'svd_v_d_4', 'svd_v_d_5', 'svd_v_d_6'],\n",
              "      dtype='object')"
            ]
          },
          "metadata": {},
          "execution_count": 13
        }
      ],
      "source": [
        "df_final_train.columns"
      ]
    },
    {
      "cell_type": "code",
      "source": [
        "type(df_final_train)"
      ],
      "metadata": {
        "id": "L3jhdpe3ak7m",
        "outputId": "bc9a63d2-91d4-4381-de00-ba417b479ea3",
        "colab": {
          "base_uri": "https://localhost:8080/"
        }
      },
      "execution_count": null,
      "outputs": [
        {
          "output_type": "execute_result",
          "data": {
            "text/plain": [
              "pandas.core.frame.DataFrame"
            ]
          },
          "metadata": {},
          "execution_count": 15
        }
      ]
    },
    {
      "cell_type": "code",
      "execution_count": null,
      "metadata": {
        "id": "XRW7VZ4AHglc"
      },
      "outputs": [],
      "source": [
        "y_train = df_final_train.indicator_link\n",
        "y_test = df_final_test.indicator_link"
      ]
    },
    {
      "cell_type": "code",
      "execution_count": null,
      "metadata": {
        "id": "4lj9M_qtHglf"
      },
      "outputs": [],
      "source": [
        "df_final_train.drop(['source_node', 'destination_node','indicator_link'],axis=1,inplace=True)\n",
        "df_final_test.drop(['source_node', 'destination_node','indicator_link'],axis=1,inplace=True)"
      ]
    },
    {
      "cell_type": "code",
      "execution_count": null,
      "metadata": {
        "colab": {
          "base_uri": "https://localhost:8080/",
          "height": 399
        },
        "id": "lIEc91uVHgli",
        "outputId": "3d0d2430-f740-4cd5-f9f4-8fe7d622598c"
      },
      "outputs": [
        {
          "output_type": "stream",
          "name": "stdout",
          "text": [
            "Estimators =  10 Train Score 0.9063252121775113 test Score 0.8745605278006858\n",
            "Estimators =  50 Train Score 0.9205725512208812 test Score 0.9125653355634538\n",
            "Estimators =  100 Train Score 0.9238690848446947 test Score 0.9141199714153599\n",
            "Estimators =  250 Train Score 0.9239789348046863 test Score 0.9188007232664732\n",
            "Estimators =  450 Train Score 0.9237190618658074 test Score 0.9161507685828595\n"
          ]
        },
        {
          "output_type": "execute_result",
          "data": {
            "text/plain": [
              "Text(0.5, 1.0, 'Estimators vs score at depth of 5')"
            ]
          },
          "metadata": {},
          "execution_count": 10
        },
        {
          "output_type": "display_data",
          "data": {
            "text/plain": [
              "<Figure size 432x288 with 1 Axes>"
            ],
            "image/png": "[encoded data removed]"
          },
          "metadata": {
            "needs_background": "light"
          }
        }
      ],
      "source": [
        "estimators = [10,50,100,250,450]\n",
        "train_scores = []\n",
        "test_scores = []\n",
        "for i in estimators:\n",
        "    clf = RandomForestClassifier(bootstrap=True, class_weight=None, criterion='gini',\n",
        "            max_depth=5, max_features='auto', max_leaf_nodes=None,\n",
        "            min_impurity_decrease=0.0, \n",
        "            min_samples_leaf=52, min_samples_split=120,\n",
        "            min_weight_fraction_leaf=0.0, n_estimators=i, n_jobs=-1,random_state=25,verbose=0,warm_start=False)\n",
        "    clf.fit(df_final_train,y_train)\n",
        "    train_sc = f1_score(y_train,clf.predict(df_final_train))\n",
        "    test_sc = f1_score(y_test,clf.predict(df_final_test))\n",
        "    test_scores.append(test_sc)\n",
        "    train_scores.append(train_sc)\n",
        "    print('Estimators = ',i,'Train Score',train_sc,'test Score',test_sc)\n",
        "plt.plot(estimators,train_scores,label='Train Score')\n",
        "plt.plot(estimators,test_scores,label='Test Score')\n",
        "plt.xlabel('Estimators')\n",
        "plt.ylabel('Score')\n",
        "plt.title('Estimators vs score at depth of 5')"
      ]
    },
    {
      "cell_type": "code",
      "execution_count": null,
      "metadata": {
        "colab": {
          "base_uri": "https://localhost:8080/",
          "height": 451
        },
        "id": "nZxhrTdQHglm",
        "outputId": "68911d9c-fd7d-46fe-dc27-031b857ac423"
      },
      "outputs": [
        {
          "output_type": "stream",
          "name": "stdout",
          "text": [
            "depth =  3 Train Score 0.8916120853581238 test Score 0.8687934859875491\n",
            "depth =  9 Train Score 0.9572226298198419 test Score 0.9222953031452904\n",
            "depth =  11 Train Score 0.9623451340902863 test Score 0.9252318758281279\n",
            "depth =  15 Train Score 0.9634267621927706 test Score 0.9231288356496615\n",
            "depth =  20 Train Score 0.9631629153051491 test Score 0.9235051024711141\n",
            "depth =  35 Train Score 0.9634333127085721 test Score 0.9235601652753184\n",
            "depth =  50 Train Score 0.9634333127085721 test Score 0.9235601652753184\n",
            "depth =  70 Train Score 0.9634333127085721 test Score 0.9235601652753184\n",
            "depth =  130 Train Score 0.9634333127085721 test Score 0.9235601652753184\n"
          ]
        },
        {
          "output_type": "display_data",
          "data": {
            "text/plain": [
              "<Figure size 432x288 with 1 Axes>"
            ],
            "image/png": "[encoded data removed]"
          },
          "metadata": {
            "needs_background": "light"
          }
        }
      ],
      "source": [
        "depths = [3,9,11,15,20,35,50,70,130]\n",
        "train_scores = []\n",
        "test_scores = []\n",
        "for i in depths:\n",
        "    clf = RandomForestClassifier(bootstrap=True, class_weight=None, criterion='gini',\n",
        "            max_depth=i, max_features='auto', max_leaf_nodes=None,\n",
        "            min_impurity_decrease=0.0, \n",
        "            min_samples_leaf=52, min_samples_split=120,\n",
        "            min_weight_fraction_leaf=0.0, n_estimators=115, n_jobs=-1,random_state=25,verbose=0,warm_start=False)\n",
        "    clf.fit(df_final_train,y_train)\n",
        "    train_sc = f1_score(y_train,clf.predict(df_final_train))\n",
        "    test_sc = f1_score(y_test,clf.predict(df_final_test))\n",
        "    test_scores.append(test_sc)\n",
        "    train_scores.append(train_sc)\n",
        "    print('depth = ',i,'Train Score',train_sc,'test Score',test_sc)\n",
        "plt.plot(depths,train_scores,label='Train Score')\n",
        "plt.plot(depths,test_scores,label='Test Score')\n",
        "plt.xlabel('Depth')\n",
        "plt.ylabel('Score')\n",
        "plt.title('Depth vs score at depth of 5 at estimators = 115')\n",
        "plt.show()"
      ]
    },
    {
      "cell_type": "code",
      "execution_count": null,
      "metadata": {
        "colab": {
          "base_uri": "https://localhost:8080/"
        },
        "id": "MrG1Lfl3Hglq",
        "outputId": "83526276-530e-41ff-acf1-304ab9ce1c43"
      },
      "outputs": [
        {
          "output_type": "execute_result",
          "data": {
            "text/plain": [
              "RandomizedSearchCV(cv=10,\n",
              "                   estimator=RandomForestClassifier(n_jobs=-1, random_state=25),\n",
              "                   n_iter=5,\n",
              "                   param_distributions={'max_depth': <scipy.stats._distn_infrastructure.rv_frozen object at 0x7f2d909f9350>,\n",
              "                                        'min_samples_leaf': <scipy.stats._distn_infrastructure.rv_frozen object at 0x7f2d90a60b50>,\n",
              "                                        'min_samples_split': <scipy.stats._distn_infrastructure.rv_frozen object at 0x7f2d909cfcd0>,\n",
              "                                        'n_estimators': <scipy.stats._distn_infrastructure.rv_frozen object at 0x7f2d909e9910>},\n",
              "                   random_state=25, return_train_score=True, scoring='f1')"
            ]
          },
          "metadata": {},
          "execution_count": 31
        }
      ],
      "source": [
        "from sklearn.metrics import f1_score\n",
        "from sklearn.ensemble import RandomForestClassifier\n",
        "from sklearn.metrics import f1_score\n",
        "from sklearn.model_selection import RandomizedSearchCV\n",
        "from scipy.stats import randint as sp_randint\n",
        "from scipy.stats import uniform\n",
        "\n",
        "param_dist = {\"n_estimators\":sp_randint(105,125),\n",
        "              \"max_depth\": sp_randint(10,15),\n",
        "              \"min_samples_split\": sp_randint(110,190),\n",
        "              \"min_samples_leaf\": sp_randint(25,65)}\n",
        "\n",
        "clf = RandomForestClassifier(random_state=25,n_jobs=-1)\n",
        "\n",
        "rf_random = RandomizedSearchCV(clf, param_distributions=param_dist,\n",
        "                                   n_iter=5,cv=10,scoring='f1',random_state=25, return_train_score=True)\n",
        "# https://stackoverflow.com/questions/57136676/sklearn-model-selection-gridsearchcv-is-throwing-keyerror-mean-train-score\n",
        "rf_random.fit(df_final_train,y_train)\n"
      ]
    },
    {
      "cell_type": "code",
      "execution_count": null,
      "metadata": {
        "id": "KG9Js_mr_DNd",
        "colab": {
          "base_uri": "https://localhost:8080/"
        },
        "outputId": "adda33a6-0ee1-44cf-c262-c6a8b7e39a96"
      },
      "outputs": [
        {
          "output_type": "stream",
          "name": "stdout",
          "text": [
            "mean test scores [0.96225042 0.96215492 0.9605708  0.96194014 0.96330005]\n",
            "mean train scores [0.96294922 0.96266735 0.96115674 0.96263457 0.96430539]\n"
          ]
        }
      ],
      "source": [
        "print('mean test scores',rf_random.cv_results_['mean_test_score'])\n",
        "print('mean train scores',rf_random.cv_results_['mean_train_score'])"
      ]
    },
    {
      "cell_type": "code",
      "execution_count": null,
      "metadata": {
        "id": "hme3j_diHglu",
        "outputId": "42ec4819-10e7-4a50-f149-96091ec9bea5",
        "colab": {
          "base_uri": "https://localhost:8080/"
        }
      },
      "outputs": [
        {
          "output_type": "stream",
          "name": "stdout",
          "text": [
            "RandomForestClassifier(max_depth=14, min_samples_leaf=28, min_samples_split=111,\n",
            "                       n_estimators=121, n_jobs=-1, random_state=25)\n"
          ]
        }
      ],
      "source": [
        "print(rf_random.best_estimator_)"
      ]
    },
    {
      "cell_type": "code",
      "execution_count": null,
      "metadata": {
        "id": "qu4KIEweHglx"
      },
      "outputs": [],
      "source": [
        "clf = RandomForestClassifier(bootstrap=True, class_weight=None, criterion='gini',\n",
        "            max_depth=14, max_features='auto', max_leaf_nodes=None,\n",
        "            min_impurity_decrease=0.0,\n",
        "            min_samples_leaf=28, min_samples_split=111,\n",
        "            min_weight_fraction_leaf=0.0, n_estimators=121, n_jobs=-1,\n",
        "            oob_score=False, random_state=25, verbose=0, warm_start=False)"
      ]
    },
    {
      "cell_type": "code",
      "execution_count": null,
      "metadata": {
        "id": "Dax83GfLHgl1"
      },
      "outputs": [],
      "source": [
        "clf.fit(df_final_train,y_train)\n",
        "y_train_pred = clf.predict(df_final_train)\n",
        "y_test_pred = clf.predict(df_final_test)"
      ]
    },
    {
      "cell_type": "code",
      "execution_count": null,
      "metadata": {
        "id": "PTtAp1iTHgl4",
        "outputId": "2cf59701-7ba1-408e-a757-5529158907d2",
        "colab": {
          "base_uri": "https://localhost:8080/"
        }
      },
      "outputs": [
        {
          "output_type": "stream",
          "name": "stdout",
          "text": [
            "Train f1 score 0.9652533106548414\n",
            "Test f1 score 0.9241678239279553\n"
          ]
        }
      ],
      "source": [
        "from sklearn.metrics import f1_score\n",
        "print('Train f1 score',f1_score(y_train,y_train_pred))\n",
        "print('Test f1 score',f1_score(y_test,y_test_pred))"
      ]
    },
    {
      "cell_type": "code",
      "execution_count": null,
      "metadata": {
        "id": "5XfUkZYQHgl7"
      },
      "outputs": [],
      "source": [
        "from sklearn.metrics import confusion_matrix\n",
        "def plot_confusion_matrix(test_y, predict_y):\n",
        "    C = confusion_matrix(test_y, predict_y)\n",
        "    \n",
        "    A =(((C.T)/(C.sum(axis=1))).T)\n",
        "    \n",
        "    B =(C/C.sum(axis=0))\n",
        "    plt.figure(figsize=(20,4))\n",
        "    \n",
        "    labels = [0,1]\n",
        "    # representing A in heatmap format\n",
        "    cmap=sns.light_palette(\"blue\")\n",
        "    plt.subplot(1, 3, 1)\n",
        "    sns.heatmap(C, annot=True, cmap=cmap, fmt=\".3f\", xticklabels=labels, yticklabels=labels)\n",
        "    plt.xlabel('Predicted Class')\n",
        "    plt.ylabel('Original Class')\n",
        "    plt.title(\"Confusion matrix\")\n",
        "    \n",
        "    plt.subplot(1, 3, 2)\n",
        "    sns.heatmap(B, annot=True, cmap=cmap, fmt=\".3f\", xticklabels=labels, yticklabels=labels)\n",
        "    plt.xlabel('Predicted Class')\n",
        "    plt.ylabel('Original Class')\n",
        "    plt.title(\"Precision matrix\")\n",
        "    \n",
        "    plt.subplot(1, 3, 3)\n",
        "    # representing B in heatmap format\n",
        "    sns.heatmap(A, annot=True, cmap=cmap, fmt=\".3f\", xticklabels=labels, yticklabels=labels)\n",
        "    plt.xlabel('Predicted Class')\n",
        "    plt.ylabel('Original Class')\n",
        "    plt.title(\"Recall matrix\")\n",
        "    \n",
        "    plt.show()"
      ]
    },
    {
      "cell_type": "code",
      "execution_count": null,
      "metadata": {
        "id": "s6t11dhTHgl-",
        "outputId": "89b3e090-7fad-4275-ff9f-aa761b968f4b",
        "colab": {
          "base_uri": "https://localhost:8080/",
          "height": 608
        }
      },
      "outputs": [
        {
          "output_type": "stream",
          "name": "stdout",
          "text": [
            "Train confusion_matrix\n"
          ]
        },
        {
          "output_type": "display_data",
          "data": {
            "text/plain": [
              "<Figure size 1440x288 with 6 Axes>"
            ],
            "image/png": "[encoded data removed]"
          },
          "metadata": {
            "needs_background": "light"
          }
        },
        {
          "output_type": "stream",
          "name": "stdout",
          "text": [
            "Test confusion_matrix\n"
          ]
        },
        {
          "output_type": "display_data",
          "data": {
            "text/plain": [
              "<Figure size 1440x288 with 6 Axes>"
            ],
            "image/png": "[encoded data removed]"
          },
          "metadata": {
            "needs_background": "light"
          }
        }
      ],
      "source": [
        "print('Train confusion_matrix')\n",
        "plot_confusion_matrix(y_train,y_train_pred)\n",
        "print('Test confusion_matrix')\n",
        "plot_confusion_matrix(y_test,y_test_pred)"
      ]
    },
    {
      "cell_type": "code",
      "execution_count": null,
      "metadata": {
        "id": "61TF-VLeHgmD",
        "outputId": "eedfce17-cc16-463d-d1f6-748ebe769683",
        "colab": {
          "base_uri": "https://localhost:8080/",
          "height": 295
        }
      },
      "outputs": [
        {
          "output_type": "display_data",
          "data": {
            "text/plain": [
              "<Figure size 432x288 with 1 Axes>"
            ],
            "image/png": "[encoded data removed]"
          },
          "metadata": {
            "needs_background": "light"
          }
        }
      ],
      "source": [
        "from sklearn.metrics import roc_curve, auc\n",
        "fpr,tpr,ths = roc_curve(y_test,y_test_pred)\n",
        "auc_sc = auc(fpr, tpr)\n",
        "plt.plot(fpr, tpr, color='navy',label='ROC curve (area = %0.2f)' % auc_sc)\n",
        "plt.xlabel('False Positive Rate')\n",
        "plt.ylabel('True Positive Rate')\n",
        "plt.title('Receiver operating characteristic with test data')\n",
        "plt.legend()\n",
        "plt.show()"
      ]
    },
    {
      "cell_type": "code",
      "execution_count": null,
      "metadata": {
        "id": "HEZ7uvN6HgmK",
        "outputId": "3d25e667-826b-491d-b0a6-a35c49e30e8c",
        "scrolled": false,
        "colab": {
          "base_uri": "https://localhost:8080/",
          "height": 730
        }
      },
      "outputs": [
        {
          "output_type": "display_data",
          "data": {
            "text/plain": [
              "<Figure size 720x864 with 1 Axes>"
            ],
            "image/png": "[encoded data removed]"
          },
          "metadata": {
            "needs_background": "light"
          }
        }
      ],
      "source": [
        "features = df_final_train.columns\n",
        "importances = clf.feature_importances_\n",
        "indices = (np.argsort(importances))[-25:]\n",
        "plt.figure(figsize=(10,12))\n",
        "plt.title('Feature Importances')\n",
        "plt.barh(range(len(indices)), importances[indices], color='r', align='center')\n",
        "plt.yticks(range(len(indices)), [features[i] for i in indices])\n",
        "plt.xlabel('Relative Importance')\n",
        "plt.show()"
      ]
    },
    {
      "cell_type": "markdown",
      "metadata": {
        "id": "xdHW32hcHgmN"
      },
      "source": [
        "# Assignments:\n",
        "\n",
        "1. Add another feature called  Preferential Attachment  with followers and followees data of vertex. you can check about Preferential Attachment in below link\n",
        "http://be.amazd.com/link-prediction/ <br>\n",
        "2. Add  feature called svd_dot. you can calculate svd_dot as Dot product between sourse node svd and destination node svd features.  you can read about this in below pdf \n",
        "https://storage.googleapis.com/kaggle-forum-message-attachments/2594/supervised_link_prediction.pdf<br>\n",
        "3. Tune hyperparameters for XG boost with all these features and check the error metric."
      ]
    },
    {
      "cell_type": "code",
      "source": [
        "from google.colab import drive\n",
        "drive.mount('/content/gdrive/')\n",
        "! pwd\n",
        "%cd /content/gdrive/My\\ Drive/Assignments\\ AAIC/Assignment\\ 17\\ FB\\ Friend\\ Recommendation"
      ],
      "metadata": {
        "id": "FziCDzoP_8D4",
        "colab": {
          "base_uri": "https://localhost:8080/"
        },
        "outputId": "1f4f3fd0-3764-4e28-90fe-544f6cb26bac"
      },
      "execution_count": 61,
      "outputs": [
        {
          "output_type": "stream",
          "name": "stdout",
          "text": [
            "Drive already mounted at /content/gdrive/; to attempt to forcibly remount, call drive.mount(\"/content/gdrive/\", force_remount=True).\n",
            "/content/gdrive/My Drive/Assignments AAIC/Assignment 17 FB Friend Recommendation\n",
            "/content/gdrive/My Drive/Assignments AAIC/Assignment 17 FB Friend Recommendation\n"
          ]
        }
      ]
    },
    {
      "cell_type": "code",
      "source": [
        "if os.path.isfile('/content/gdrive/My Drive/Assignments AAIC/Assignment 17 FB Friend Recommendation/Facebook/data/after_eda/train_pos_after_eda.csv'):\n",
        "    train_graph=nx.read_edgelist('/content/gdrive/My Drive/Assignments AAIC/Assignment 17 FB Friend Recommendation/Facebook/data/after_eda/train_pos_after_eda.csv',delimiter=',',create_using=nx.DiGraph(),nodetype=int)\n",
        "    print(nx.info(train_graph))\n",
        "else:\n",
        "    print(\"please run the FB_EDA.ipynb or download the files from drive\")"
      ],
      "metadata": {
        "colab": {
          "base_uri": "https://localhost:8080/"
        },
        "id": "afR-VZt52eHN",
        "outputId": "00bdf118-8ac5-4ee6-b6df-c965c8c0dbe4"
      },
      "execution_count": 62,
      "outputs": [
        {
          "output_type": "stream",
          "name": "stdout",
          "text": [
            "DiGraph with 1780722 nodes and 7550015 edges\n"
          ]
        }
      ]
    },
    {
      "cell_type": "code",
      "execution_count": 75,
      "metadata": {
        "id": "Z0IrXEnJd4h8",
        "colab": {
          "base_uri": "https://localhost:8080/"
        },
        "outputId": "27bcc1ef-3d35-4c95-f55a-5f4c90ecccec"
      },
      "outputs": [
        {
          "output_type": "stream",
          "name": "stdout",
          "text": [
            "/content/gdrive/MyDrive/Assignments AAIC/Assignment 17 FB Friend Recommendation\n"
          ]
        }
      ],
      "source": [
        "#reading\n",
        "from pandas import read_hdf\n",
        "!pwd\n",
        "df_final_train = read_hdf('storage_sample_stage4.h5', 'train_df',mode='r')\n",
        "df_final_test = read_hdf('storage_sample_stage4.h5', 'test_df',mode='r')"
      ]
    },
    {
      "cell_type": "code",
      "execution_count": 76,
      "metadata": {
        "colab": {
          "base_uri": "https://localhost:8080/"
        },
        "outputId": "5eeb6257-6a76-4fa0-ce60-61bf5cee4f64",
        "id": "ki8g97m4d4iA"
      },
      "outputs": [
        {
          "output_type": "execute_result",
          "data": {
            "text/plain": [
              "Index(['source_node', 'destination_node', 'indicator_link',\n",
              "       'jaccard_followers', 'jaccard_followees', 'cosine_followers',\n",
              "       'cosine_followees', 'num_followers_s', 'num_followees_s',\n",
              "       'num_followees_d', 'inter_followers', 'inter_followees', 'adar_index',\n",
              "       'follows_back', 'same_comp', 'shortest_path', 'weight_in', 'weight_out',\n",
              "       'weight_f1', 'weight_f2', 'weight_f3', 'weight_f4', 'page_rank_s',\n",
              "       'page_rank_d', 'katz_s', 'katz_d', 'hubs_s', 'hubs_d', 'authorities_s',\n",
              "       'authorities_d', 'svd_u_s_1', 'svd_u_s_2', 'svd_u_s_3', 'svd_u_s_4',\n",
              "       'svd_u_s_5', 'svd_u_s_6', 'svd_u_d_1', 'svd_u_d_2', 'svd_u_d_3',\n",
              "       'svd_u_d_4', 'svd_u_d_5', 'svd_u_d_6', 'svd_v_s_1', 'svd_v_s_2',\n",
              "       'svd_v_s_3', 'svd_v_s_4', 'svd_v_s_5', 'svd_v_s_6', 'svd_v_d_1',\n",
              "       'svd_v_d_2', 'svd_v_d_3', 'svd_v_d_4', 'svd_v_d_5', 'svd_v_d_6'],\n",
              "      dtype='object')"
            ]
          },
          "metadata": {},
          "execution_count": 76
        }
      ],
      "source": [
        "df_final_train.columns"
      ]
    },
    {
      "cell_type": "markdown",
      "source": [
        "<font color='red'><h1>Note:- It seems num_follower_d feature is missing from the storage_sample_stage4, so we'll have to add it."
      ],
      "metadata": {
        "id": "HENhL8ydXBM0"
      }
    },
    {
      "cell_type": "code",
      "execution_count": 77,
      "metadata": {
        "id": "-Z41FOh2d4iF"
      },
      "outputs": [],
      "source": [
        "y_train = df_final_train.indicator_link\n",
        "y_test = df_final_test.indicator_link"
      ]
    },
    {
      "cell_type": "markdown",
      "source": [
        "<font color='red'><h2> 1. Adding Preferential Attachment \n"
      ],
      "metadata": {
        "id": "-8vDJN1GXBge"
      }
    },
    {
      "cell_type": "markdown",
      "source": [
        "<img src= 'https://drive.google.com/uc?id=1WtI6j3dO__V0oQzdtWk3EGXWEZtCCKIc'>"
      ],
      "metadata": {
        "id": "eDAzBqnWUP-z"
      }
    },
    {
      "cell_type": "code",
      "metadata": {
        "id": "fz2eZpSnVFIL"
      },
      "source": [
        "def compute_features_stage5(df_final):\n",
        "    #calculating no of followers followees for source and destination\n",
        "    #calculating intersection of followers and followees for source and destination\n",
        "    num_followers_s=[]\n",
        "    num_followees_s=[]\n",
        "    num_followers_d=[]\n",
        "    num_followees_d=[]\n",
        "    inter_followers=[]\n",
        "    inter_followees=[] \n",
        "    # See if node in Train or Test \n",
        "    for i,row in df_final.iterrows():\n",
        "        try:\n",
        "            s1=set(train_graph.predecessors(row['source_node'])) # source followers \n",
        "            s2=set(train_graph.successors(row['source_node'])) # people following source\n",
        "        except:\n",
        "            s1 = set()\n",
        "            s2 = set()\n",
        "        try:\n",
        "            d1=set(train_graph.predecessors(row['destination_node']))\n",
        "            d2=set(train_graph.successors(row['destination_node']))\n",
        "        except:\n",
        "            d1 = set()\n",
        "            d2 = set() \n",
        "        num_followers_s.append(len(s1))\n",
        "        num_followees_s.append(len(s2))\n",
        "\n",
        "        num_followers_d.append(len(d1))\n",
        "        num_followees_d.append(len(d2))\n",
        "\n",
        "        inter_followers.append(len(s1.intersection(d1)))\n",
        "        inter_followees.append(len(s2.intersection(d2)))\n",
        "    \n",
        "    return num_followers_d"
      ],
      "execution_count": 95,
      "outputs": []
    },
    {
      "cell_type": "code",
      "source": [
        "df_final_train.head()"
      ],
      "metadata": {
        "colab": {
          "base_uri": "https://localhost:8080/",
          "height": 299
        },
        "id": "Gb_Y6rK8Yab-",
        "outputId": "202e8208-2e5a-4ee1-92f4-6712ed3935b0"
      },
      "execution_count": 86,
      "outputs": [
        {
          "output_type": "execute_result",
          "data": {
            "text/plain": [
              "   source_node  destination_node  indicator_link  jaccard_followers  \\\n",
              "0       273084           1505602               1                  0   \n",
              "1       832016           1543415               1                  0   \n",
              "2      1325247            760242               1                  0   \n",
              "3      1368400           1006992               1                  0   \n",
              "4       140165           1708748               1                  0   \n",
              "\n",
              "   jaccard_followees  cosine_followers  cosine_followees  num_followers_s  \\\n",
              "0           0.000000          0.000000          0.000000                6   \n",
              "1           0.187135          0.028382          0.343828               94   \n",
              "2           0.369565          0.156957          0.566038               28   \n",
              "3           0.000000          0.000000          0.000000               11   \n",
              "4           0.000000          0.000000          0.000000                1   \n",
              "\n",
              "   num_followees_s  num_followees_d  ...     svd_v_s_3     svd_v_s_4  \\\n",
              "0               15                8  ...  1.983691e-06  1.545075e-13   \n",
              "1               61              142  ... -6.236048e-11  1.345726e-02   \n",
              "2               41               22  ... -2.380564e-19 -7.021227e-19   \n",
              "3                5                7  ...  6.058498e-11  1.514614e-11   \n",
              "4               11                3  ...  1.197283e-07  1.999809e-14   \n",
              "\n",
              "      svd_v_s_5     svd_v_s_6     svd_v_d_1     svd_v_d_2     svd_v_d_3  \\\n",
              "0  8.108434e-13  1.719702e-14 -1.355368e-12  4.675307e-13  1.128591e-06   \n",
              "1  3.703479e-12  2.251737e-10  1.245101e-12 -1.636948e-10 -3.112650e-10   \n",
              "2  1.940403e-19 -3.365389e-19 -1.238370e-18  1.438175e-19 -1.852863e-19   \n",
              "3  1.513483e-12  4.498061e-13 -9.818087e-10  3.454672e-11  5.213635e-08   \n",
              "4  3.360247e-13  1.407670e-14  0.000000e+00  0.000000e+00  0.000000e+00   \n",
              "\n",
              "      svd_v_d_4     svd_v_d_5     svd_v_d_6  \n",
              "0  6.616550e-14  9.771077e-13  4.159752e-14  \n",
              "1  6.738902e-02  2.607801e-11  2.372904e-09  \n",
              "2 -5.901864e-19  1.629341e-19 -2.572452e-19  \n",
              "3  9.595823e-13  3.047045e-10  1.246592e-13  \n",
              "4  0.000000e+00  0.000000e+00  0.000000e+00  \n",
              "\n",
              "[5 rows x 54 columns]"
            ],
            "text/html": [
              "\n",
              "  <div id=\"df-f38aa56e-b718-4b06-b770-c8306c90a5d8\">\n",
              "    <div class=\"colab-df-container\">\n",
              "      <div>\n",
              "<style scoped>\n",
              "    .dataframe tbody tr th:only-of-type {\n",
              "        vertical-align: middle;\n",
              "    }\n",
              "\n",
              "    .dataframe tbody tr th {\n",
              "        vertical-align: top;\n",
              "    }\n",
              "\n",
              "    .dataframe thead th {\n",
              "        text-align: right;\n",
              "    }\n",
              "</style>\n",
              "<table border=\"1\" class=\"dataframe\">\n",
              "  <thead>\n",
              "    <tr style=\"text-align: right;\">\n",
              "      <th></th>\n",
              "      <th>source_node</th>\n",
              "      <th>destination_node</th>\n",
              "      <th>indicator_link</th>\n",
              "      <th>jaccard_followers</th>\n",
              "      <th>jaccard_followees</th>\n",
              "      <th>cosine_followers</th>\n",
              "      <th>cosine_followees</th>\n",
              "      <th>num_followers_s</th>\n",
              "      <th>num_followees_s</th>\n",
              "      <th>num_followees_d</th>\n",
              "      <th>...</th>\n",
              "      <th>svd_v_s_3</th>\n",
              "      <th>svd_v_s_4</th>\n",
              "      <th>svd_v_s_5</th>\n",
              "      <th>svd_v_s_6</th>\n",
              "      <th>svd_v_d_1</th>\n",
              "      <th>svd_v_d_2</th>\n",
              "      <th>svd_v_d_3</th>\n",
              "      <th>svd_v_d_4</th>\n",
              "      <th>svd_v_d_5</th>\n",
              "      <th>svd_v_d_6</th>\n",
              "    </tr>\n",
              "  </thead>\n",
              "  <tbody>\n",
              "    <tr>\n",
              "      <th>0</th>\n",
              "      <td>273084</td>\n",
              "      <td>1505602</td>\n",
              "      <td>1</td>\n",
              "      <td>0</td>\n",
              "      <td>0.000000</td>\n",
              "      <td>0.000000</td>\n",
              "      <td>0.000000</td>\n",
              "      <td>6</td>\n",
              "      <td>15</td>\n",
              "      <td>8</td>\n",
              "      <td>...</td>\n",
              "      <td>1.983691e-06</td>\n",
              "      <td>1.545075e-13</td>\n",
              "      <td>8.108434e-13</td>\n",
              "      <td>1.719702e-14</td>\n",
              "      <td>-1.355368e-12</td>\n",
              "      <td>4.675307e-13</td>\n",
              "      <td>1.128591e-06</td>\n",
              "      <td>6.616550e-14</td>\n",
              "      <td>9.771077e-13</td>\n",
              "      <td>4.159752e-14</td>\n",
              "    </tr>\n",
              "    <tr>\n",
              "      <th>1</th>\n",
              "      <td>832016</td>\n",
              "      <td>1543415</td>\n",
              "      <td>1</td>\n",
              "      <td>0</td>\n",
              "      <td>0.187135</td>\n",
              "      <td>0.028382</td>\n",
              "      <td>0.343828</td>\n",
              "      <td>94</td>\n",
              "      <td>61</td>\n",
              "      <td>142</td>\n",
              "      <td>...</td>\n",
              "      <td>-6.236048e-11</td>\n",
              "      <td>1.345726e-02</td>\n",
              "      <td>3.703479e-12</td>\n",
              "      <td>2.251737e-10</td>\n",
              "      <td>1.245101e-12</td>\n",
              "      <td>-1.636948e-10</td>\n",
              "      <td>-3.112650e-10</td>\n",
              "      <td>6.738902e-02</td>\n",
              "      <td>2.607801e-11</td>\n",
              "      <td>2.372904e-09</td>\n",
              "    </tr>\n",
              "    <tr>\n",
              "      <th>2</th>\n",
              "      <td>1325247</td>\n",
              "      <td>760242</td>\n",
              "      <td>1</td>\n",
              "      <td>0</td>\n",
              "      <td>0.369565</td>\n",
              "      <td>0.156957</td>\n",
              "      <td>0.566038</td>\n",
              "      <td>28</td>\n",
              "      <td>41</td>\n",
              "      <td>22</td>\n",
              "      <td>...</td>\n",
              "      <td>-2.380564e-19</td>\n",
              "      <td>-7.021227e-19</td>\n",
              "      <td>1.940403e-19</td>\n",
              "      <td>-3.365389e-19</td>\n",
              "      <td>-1.238370e-18</td>\n",
              "      <td>1.438175e-19</td>\n",
              "      <td>-1.852863e-19</td>\n",
              "      <td>-5.901864e-19</td>\n",
              "      <td>1.629341e-19</td>\n",
              "      <td>-2.572452e-19</td>\n",
              "    </tr>\n",
              "    <tr>\n",
              "      <th>3</th>\n",
              "      <td>1368400</td>\n",
              "      <td>1006992</td>\n",
              "      <td>1</td>\n",
              "      <td>0</td>\n",
              "      <td>0.000000</td>\n",
              "      <td>0.000000</td>\n",
              "      <td>0.000000</td>\n",
              "      <td>11</td>\n",
              "      <td>5</td>\n",
              "      <td>7</td>\n",
              "      <td>...</td>\n",
              "      <td>6.058498e-11</td>\n",
              "      <td>1.514614e-11</td>\n",
              "      <td>1.513483e-12</td>\n",
              "      <td>4.498061e-13</td>\n",
              "      <td>-9.818087e-10</td>\n",
              "      <td>3.454672e-11</td>\n",
              "      <td>5.213635e-08</td>\n",
              "      <td>9.595823e-13</td>\n",
              "      <td>3.047045e-10</td>\n",
              "      <td>1.246592e-13</td>\n",
              "    </tr>\n",
              "    <tr>\n",
              "      <th>4</th>\n",
              "      <td>140165</td>\n",
              "      <td>1708748</td>\n",
              "      <td>1</td>\n",
              "      <td>0</td>\n",
              "      <td>0.000000</td>\n",
              "      <td>0.000000</td>\n",
              "      <td>0.000000</td>\n",
              "      <td>1</td>\n",
              "      <td>11</td>\n",
              "      <td>3</td>\n",
              "      <td>...</td>\n",
              "      <td>1.197283e-07</td>\n",
              "      <td>1.999809e-14</td>\n",
              "      <td>3.360247e-13</td>\n",
              "      <td>1.407670e-14</td>\n",
              "      <td>0.000000e+00</td>\n",
              "      <td>0.000000e+00</td>\n",
              "      <td>0.000000e+00</td>\n",
              "      <td>0.000000e+00</td>\n",
              "      <td>0.000000e+00</td>\n",
              "      <td>0.000000e+00</td>\n",
              "    </tr>\n",
              "  </tbody>\n",
              "</table>\n",
              "<p>5 rows × 54 columns</p>\n",
              "</div>\n",
              "      <button class=\"colab-df-convert\" onclick=\"convertToInteractive('df-f38aa56e-b718-4b06-b770-c8306c90a5d8')\"\n",
              "              title=\"Convert this dataframe to an interactive table.\"\n",
              "              style=\"display:none;\">\n",
              "        \n",
              "  <svg xmlns=\"http://www.w3.org/2000/svg\" height=\"24px\"viewBox=\"0 0 24 24\"\n",
              "       width=\"24px\">\n",
              "    <path d=\"M0 0h24v24H0V0z\" fill=\"none\"/>\n",
              "    <path d=\"M18.56 5.44l.94 2.06.94-2.06 2.06-.94-2.06-.94-.94-2.06-.94 2.06-2.06.94zm-11 1L8.5 8.5l.94-2.06 2.06-.94-2.06-.94L8.5 2.5l-.94 2.06-2.06.94zm10 10l.94 2.06.94-2.06 2.06-.94-2.06-.94-.94-2.06-.94 2.06-2.06.94z\"/><path d=\"M17.41 7.96l-1.37-1.37c-.4-.4-.92-.59-1.43-.59-.52 0-1.04.2-1.43.59L10.3 9.45l-7.72 7.72c-.78.78-.78 2.05 0 2.83L4 21.41c.39.39.9.59 1.41.59.51 0 1.02-.2 1.41-.59l7.78-7.78 2.81-2.81c.8-.78.8-2.07 0-2.86zM5.41 20L4 18.59l7.72-7.72 1.47 1.35L5.41 20z\"/>\n",
              "  </svg>\n",
              "      </button>\n",
              "      \n",
              "  <style>\n",
              "    .colab-df-container {\n",
              "      display:flex;\n",
              "      flex-wrap:wrap;\n",
              "      gap: 12px;\n",
              "    }\n",
              "\n",
              "    .colab-df-convert {\n",
              "      background-color: #E8F0FE;\n",
              "      border: none;\n",
              "      border-radius: 50%;\n",
              "      cursor: pointer;\n",
              "      display: none;\n",
              "      fill: #1967D2;\n",
              "      height: 32px;\n",
              "      padding: 0 0 0 0;\n",
              "      width: 32px;\n",
              "    }\n",
              "\n",
              "    .colab-df-convert:hover {\n",
              "      background-color: #E2EBFA;\n",
              "      box-shadow: 0px 1px 2px rgba(60, 64, 67, 0.3), 0px 1px 3px 1px rgba(60, 64, 67, 0.15);\n",
              "      fill: #174EA6;\n",
              "    }\n",
              "\n",
              "    [theme=dark] .colab-df-convert {\n",
              "      background-color: #3B4455;\n",
              "      fill: #D2E3FC;\n",
              "    }\n",
              "\n",
              "    [theme=dark] .colab-df-convert:hover {\n",
              "      background-color: #434B5C;\n",
              "      box-shadow: 0px 1px 3px 1px rgba(0, 0, 0, 0.15);\n",
              "      filter: drop-shadow(0px 1px 2px rgba(0, 0, 0, 0.3));\n",
              "      fill: #FFFFFF;\n",
              "    }\n",
              "  </style>\n",
              "\n",
              "      <script>\n",
              "        const buttonEl =\n",
              "          document.querySelector('#df-f38aa56e-b718-4b06-b770-c8306c90a5d8 button.colab-df-convert');\n",
              "        buttonEl.style.display =\n",
              "          google.colab.kernel.accessAllowed ? 'block' : 'none';\n",
              "\n",
              "        async function convertToInteractive(key) {\n",
              "          const element = document.querySelector('#df-f38aa56e-b718-4b06-b770-c8306c90a5d8');\n",
              "          const dataTable =\n",
              "            await google.colab.kernel.invokeFunction('convertToInteractive',\n",
              "                                                     [key], {});\n",
              "          if (!dataTable) return;\n",
              "\n",
              "          const docLinkHtml = 'Like what you see? Visit the ' +\n",
              "            '<a target=\"_blank\" href=https://colab.research.google.com/notebooks/data_table.ipynb>data table notebook</a>'\n",
              "            + ' to learn more about interactive tables.';\n",
              "          element.innerHTML = '';\n",
              "          dataTable['output_type'] = 'display_data';\n",
              "          await google.colab.output.renderOutput(dataTable, element);\n",
              "          const docLink = document.createElement('div');\n",
              "          docLink.innerHTML = docLinkHtml;\n",
              "          element.appendChild(docLink);\n",
              "        }\n",
              "      </script>\n",
              "    </div>\n",
              "  </div>\n",
              "  "
            ]
          },
          "metadata": {},
          "execution_count": 86
        }
      ]
    },
    {
      "cell_type": "code",
      "metadata": {
        "id": "M83aLCUASYZH"
      },
      "source": [
        "df_final_train['num_followers_d']= compute_features_stage5(df_final_train)\n",
        "df_final_test['num_followers_d'] = compute_features_stage5(df_final_test)"
      ],
      "execution_count": 97,
      "outputs": []
    },
    {
      "cell_type": "code",
      "source": [
        "! pwd\n",
        "%cd  /content/gdrive/My Drive/Assignments AAIC/Assignment 17 FB Friend Recommendation/"
      ],
      "metadata": {
        "colab": {
          "base_uri": "https://localhost:8080/"
        },
        "id": "QovDqvk-4byN",
        "outputId": "d544fccd-8f50-405a-f718-3c67a9dc1db9"
      },
      "execution_count": 98,
      "outputs": [
        {
          "output_type": "stream",
          "name": "stdout",
          "text": [
            "/content/gdrive/MyDrive/Assignments AAIC/Assignment 17 FB Friend Recommendation\n",
            "/content/gdrive/My Drive/Assignments AAIC/Assignment 17 FB Friend Recommendation\n"
          ]
        }
      ]
    },
    {
      "cell_type": "code",
      "metadata": {
        "id": "VFc60kcRVFIN"
      },
      "source": [
        "# Create a file storage sample Stage 5 and add Two New Features ie Preferential Attachment and svd_dot\n",
        "if not os.path.isfile('storage_sample_stage5.h5'):\n",
        "    #mapping Preferential Attachment on train ie followers of source * followers of destination\n",
        "    df_final_train['preferential'] = df_final_train.apply(lambda row: row['num_followers_s']* row['num_followers_d'],axis=1)\n",
        "    #mapping adar index on test\n",
        "    df_final_test['preferential'] = df_final_test.apply(lambda row: row['num_followers_s']*row['num_followers_d'],axis=1)\n",
        "\n",
        "    #-------------------------------------------------------------------------------------------------------\n",
        "    \n",
        "    hdf = HDFStore('storage_sample_stage5.h5')\n",
        "    hdf.put('train_df',df_final_train, format='table', data_columns=True)\n",
        "    hdf.put('test_df',df_final_test, format='table', data_columns=True)\n",
        "    hdf.close()\n",
        "else: # directly read a file\n",
        "    df_final_train = read_hdf('storage_sample_stage5.h5', 'train_df',mode='r')\n",
        "    df_final_test = read_hdf('storage_sample_stage5.h5', 'test_df',mode='r')"
      ],
      "execution_count": 99,
      "outputs": []
    },
    {
      "cell_type": "code",
      "source": [
        "df_final_train.columns"
      ],
      "metadata": {
        "colab": {
          "base_uri": "https://localhost:8080/"
        },
        "id": "49YCjP-f72Hc",
        "outputId": "bd091db6-0ff3-483c-fc35-f7a1e3929f6b"
      },
      "execution_count": 101,
      "outputs": [
        {
          "output_type": "execute_result",
          "data": {
            "text/plain": [
              "Index(['source_node', 'destination_node', 'indicator_link',\n",
              "       'jaccard_followers', 'jaccard_followees', 'cosine_followers',\n",
              "       'cosine_followees', 'num_followers_s', 'num_followees_s',\n",
              "       'num_followees_d', 'inter_followers', 'inter_followees', 'adar_index',\n",
              "       'follows_back', 'same_comp', 'shortest_path', 'weight_in', 'weight_out',\n",
              "       'weight_f1', 'weight_f2', 'weight_f3', 'weight_f4', 'page_rank_s',\n",
              "       'page_rank_d', 'katz_s', 'katz_d', 'hubs_s', 'hubs_d', 'authorities_s',\n",
              "       'authorities_d', 'svd_u_s_1', 'svd_u_s_2', 'svd_u_s_3', 'svd_u_s_4',\n",
              "       'svd_u_s_5', 'svd_u_s_6', 'svd_u_d_1', 'svd_u_d_2', 'svd_u_d_3',\n",
              "       'svd_u_d_4', 'svd_u_d_5', 'svd_u_d_6', 'svd_v_s_1', 'svd_v_s_2',\n",
              "       'svd_v_s_3', 'svd_v_s_4', 'svd_v_s_5', 'svd_v_s_6', 'svd_v_d_1',\n",
              "       'svd_v_d_2', 'svd_v_d_3', 'svd_v_d_4', 'svd_v_d_5', 'svd_v_d_6',\n",
              "       'num_followers_d', 'preferential'],\n",
              "      dtype='object')"
            ]
          },
          "metadata": {},
          "execution_count": 101
        }
      ]
    },
    {
      "cell_type": "markdown",
      "source": [
        "<font color='blue' size=5> Add svd_dot Feature"
      ],
      "metadata": {
        "id": "eYfpeuu36357"
      }
    },
    {
      "cell_type": "markdown",
      "source": [
        "<img src= 'https://drive.google.com/uc?id=18MAvImOkCToBXFVn1SP8hG7sKhD9wOms'>"
      ],
      "metadata": {
        "id": "Kduu3BLEUt1E"
      }
    },
    {
      "cell_type": "code",
      "source": [
        "#mapping svd_dot on train\n",
        "# [[ ]] is used to get Multiple rows https://stackoverflow.com/questions/49629992/how-to-select-multiple-rows-in-a-pandas-column-to-create-a-new-dataframe\n",
        "\n",
        "df_final_train['svd_dot_u']=df_final_train.apply(lambda row:np.dot(row[['svd_u_s_1','svd_u_s_2','svd_u_s_3', 'svd_u_s_4', 'svd_u_s_5', 'svd_u_s_6']], \n",
        "                                                                    row[['svd_u_d_1', 'svd_u_d_2', 'svd_u_d_3', 'svd_u_d_4', 'svd_u_d_5','svd_u_d_6']]),axis=1)\n",
        "df_final_train['svd_dot_v']=df_final_train.apply(lambda row:np.dot(row[['svd_v_s_1','svd_v_s_2', 'svd_v_s_3', 'svd_v_s_4', 'svd_v_s_5', 'svd_v_s_6']],\n",
        "                                                                    row[['svd_v_d_1', 'svd_v_d_2', 'svd_v_d_3', 'svd_v_d_4', 'svd_v_d_5', 'svd_v_d_6']]),axis=1)\n",
        "\n",
        "#--------------------------------------------------------------------------------------------------------------------------------------------------------------------------\n",
        "\n",
        "#mapping svd_dot on test\n",
        "df_final_test['svd_dot_u']=df_final_test.apply(lambda row:np.dot(row[['svd_u_s_1', 'svd_u_s_2','svd_u_s_3', 'svd_u_s_4', 'svd_u_s_5', 'svd_u_s_6']],\n",
        "                                                                  row[['svd_u_d_1', 'svd_u_d_2', 'svd_u_d_3', 'svd_u_d_4', 'svd_u_d_5', 'svd_u_d_6']]),axis=1)\n",
        "df_final_test['svd_dot_v']=df_final_test.apply(lambda row:np.dot(row[['svd_v_s_1', 'svd_v_s_2', 'svd_v_s_3', 'svd_v_s_4', 'svd_v_s_5', 'svd_v_s_6']],\n",
        "                                                                  row[['svd_v_d_1', 'svd_v_d_2', 'svd_v_d_3', 'svd_v_d_4', 'svd_v_d_5', 'svd_v_d_6']]),axis=1)"
      ],
      "metadata": {
        "id": "-PsUDKdC63HC"
      },
      "execution_count": 103,
      "outputs": []
    },
    {
      "cell_type": "code",
      "source": [
        "df_final_train.columns"
      ],
      "metadata": {
        "colab": {
          "base_uri": "https://localhost:8080/"
        },
        "id": "uPDQ4oMALVbi",
        "outputId": "d8350cc7-ce6f-4954-e51e-03fdbbcd2c36"
      },
      "execution_count": 104,
      "outputs": [
        {
          "output_type": "execute_result",
          "data": {
            "text/plain": [
              "Index(['source_node', 'destination_node', 'indicator_link',\n",
              "       'jaccard_followers', 'jaccard_followees', 'cosine_followers',\n",
              "       'cosine_followees', 'num_followers_s', 'num_followees_s',\n",
              "       'num_followees_d', 'inter_followers', 'inter_followees', 'adar_index',\n",
              "       'follows_back', 'same_comp', 'shortest_path', 'weight_in', 'weight_out',\n",
              "       'weight_f1', 'weight_f2', 'weight_f3', 'weight_f4', 'page_rank_s',\n",
              "       'page_rank_d', 'katz_s', 'katz_d', 'hubs_s', 'hubs_d', 'authorities_s',\n",
              "       'authorities_d', 'svd_u_s_1', 'svd_u_s_2', 'svd_u_s_3', 'svd_u_s_4',\n",
              "       'svd_u_s_5', 'svd_u_s_6', 'svd_u_d_1', 'svd_u_d_2', 'svd_u_d_3',\n",
              "       'svd_u_d_4', 'svd_u_d_5', 'svd_u_d_6', 'svd_v_s_1', 'svd_v_s_2',\n",
              "       'svd_v_s_3', 'svd_v_s_4', 'svd_v_s_5', 'svd_v_s_6', 'svd_v_d_1',\n",
              "       'svd_v_d_2', 'svd_v_d_3', 'svd_v_d_4', 'svd_v_d_5', 'svd_v_d_6',\n",
              "       'num_followers_d', 'preferential', 'svd_dot_u', 'svd_dot_v'],\n",
              "      dtype='object')"
            ]
          },
          "metadata": {},
          "execution_count": 104
        }
      ]
    },
    {
      "cell_type": "code",
      "execution_count": 105,
      "metadata": {
        "id": "V0SlBhwrLO6W"
      },
      "outputs": [],
      "source": [
        "y_train = df_final_train.indicator_link\n",
        "y_test = df_final_test.indicator_link"
      ]
    },
    {
      "cell_type": "code",
      "execution_count": 106,
      "metadata": {
        "id": "Dr9LtPJGxPqB"
      },
      "outputs": [],
      "source": [
        "#As running these files takes a lot of time, so storing them in joblib file\n",
        "import joblib\n",
        "# create an iterator object with write permission - model.pkl\n",
        "with open('/content/gdrive/My Drive/Assignments AAIC/Assignment 17 FB Friend Recommendation/df_final_train', 'wb') as files:\n",
        "    joblib.dump(df_final_train, files)\n",
        "with open('//content/gdrive/My Drive/Assignments AAIC/Assignment 17 FB Friend Recommendation/df_final_test', 'wb') as files:\n",
        "    joblib.dump(df_final_test, files)"
      ]
    },
    {
      "cell_type": "code",
      "execution_count": 107,
      "metadata": {
        "id": "86z_PRtCxPqI"
      },
      "outputs": [],
      "source": [
        "#As running these files takes a lot of time, so storing them in joblib file\n",
        "import joblib\n",
        "with open('/content/gdrive/My Drive/Assignments AAIC/Assignment 17 FB Friend Recommendation/df_final_train' , 'rb') as f:\n",
        "    df_final_train = joblib.load(f)\n",
        "with open('/content/gdrive/My Drive/Assignments AAIC/Assignment 17 FB Friend Recommendation/df_final_test' , 'rb') as f:\n",
        "    df_final_test = joblib.load(f)"
      ]
    },
    {
      "cell_type": "code",
      "execution_count": 108,
      "metadata": {
        "id": "rrnKqHUALO6a"
      },
      "outputs": [],
      "source": [
        "df_final_train.drop(['source_node', 'destination_node','indicator_link'],axis=1,inplace=True)\n",
        "df_final_test.drop(['source_node', 'destination_node','indicator_link'],axis=1,inplace=True)"
      ]
    },
    {
      "cell_type": "code",
      "execution_count": 109,
      "metadata": {
        "colab": {
          "base_uri": "https://localhost:8080/",
          "height": 399
        },
        "outputId": "474506cf-df00-4c8d-8e7f-d1759a2aa4a7",
        "id": "Rq6WdmZqLO6f"
      },
      "outputs": [
        {
          "output_type": "stream",
          "name": "stdout",
          "text": [
            "Estimators =  10 Train Score 0.9171013764062598 test Score 0.9039679681376184\n",
            "Estimators =  50 Train Score 0.9206451345068084 test Score 0.8982537834691502\n",
            "Estimators =  100 Train Score 0.9214043507746883 test Score 0.9159700835899691\n",
            "Estimators =  250 Train Score 0.9215133283195456 test Score 0.9135973763874874\n",
            "Estimators =  450 Train Score 0.9218142277612814 test Score 0.9142255892255893\n"
          ]
        },
        {
          "output_type": "execute_result",
          "data": {
            "text/plain": [
              "Text(0.5, 1.0, 'Estimators vs score at depth of 5')"
            ]
          },
          "metadata": {},
          "execution_count": 109
        },
        {
          "output_type": "display_data",
          "data": {
            "text/plain": [
              "<Figure size 432x288 with 1 Axes>"
            ],
            "image/png": "[encoded data removed]"
          },
          "metadata": {
            "needs_background": "light"
          }
        }
      ],
      "source": [
        "estimators = [10,50,100,250,450]\n",
        "train_scores = []\n",
        "test_scores = []\n",
        "for i in estimators:\n",
        "    clf = RandomForestClassifier(bootstrap=True, class_weight=None, criterion='gini',\n",
        "            max_depth=5, max_features='auto', max_leaf_nodes=None,\n",
        "            min_impurity_decrease=0.0, \n",
        "            min_samples_leaf=52, min_samples_split=120,\n",
        "            min_weight_fraction_leaf=0.0, n_estimators=i, n_jobs=-1,random_state=25,verbose=0,warm_start=False)\n",
        "    clf.fit(df_final_train,y_train)\n",
        "    train_sc = f1_score(y_train,clf.predict(df_final_train))\n",
        "    test_sc = f1_score(y_test,clf.predict(df_final_test))\n",
        "    test_scores.append(test_sc)\n",
        "    train_scores.append(train_sc)\n",
        "    print('Estimators = ',i,'Train Score',train_sc,'test Score',test_sc)\n",
        "plt.plot(estimators,train_scores,label='Train Score')\n",
        "plt.plot(estimators,test_scores,label='Test Score')\n",
        "plt.xlabel('Estimators')\n",
        "plt.ylabel('Score')\n",
        "plt.title('Estimators vs score at depth of 5')"
      ]
    },
    {
      "cell_type": "code",
      "execution_count": 110,
      "metadata": {
        "colab": {
          "base_uri": "https://localhost:8080/",
          "height": 451
        },
        "outputId": "3da1d8f8-f2e4-4b20-90a8-b34c43db43d0",
        "id": "eiW8j1HALO6k"
      },
      "outputs": [
        {
          "output_type": "stream",
          "name": "stdout",
          "text": [
            "depth =  3 Train Score 0.9105867070794544 test Score 0.8949359416473341\n",
            "depth =  9 Train Score 0.9549922928512365 test Score 0.9207133058984912\n",
            "depth =  11 Train Score 0.9606396939886264 test Score 0.9222154132240137\n",
            "depth =  15 Train Score 0.9636245665970519 test Score 0.9202096187980728\n",
            "depth =  20 Train Score 0.9638757048395602 test Score 0.924450809831715\n",
            "depth =  35 Train Score 0.9640206060114388 test Score 0.926338816204619\n",
            "depth =  50 Train Score 0.9640206060114388 test Score 0.926338816204619\n",
            "depth =  70 Train Score 0.9640206060114388 test Score 0.926338816204619\n",
            "depth =  130 Train Score 0.9640206060114388 test Score 0.926338816204619\n"
          ]
        },
        {
          "output_type": "display_data",
          "data": {
            "text/plain": [
              "<Figure size 432x288 with 1 Axes>"
            ],
            "image/png": "[encoded data removed]"
          },
          "metadata": {
            "needs_background": "light"
          }
        }
      ],
      "source": [
        "depths = [3,9,11,15,20,35,50,70,130]\n",
        "train_scores = []\n",
        "test_scores = []\n",
        "for i in depths:\n",
        "    clf = RandomForestClassifier(bootstrap=True, class_weight=None, criterion='gini',\n",
        "            max_depth=i, max_features='auto', max_leaf_nodes=None,\n",
        "            min_impurity_decrease=0.0, \n",
        "            min_samples_leaf=52, min_samples_split=120,\n",
        "            min_weight_fraction_leaf=0.0, n_estimators=115, n_jobs=-1,random_state=25,verbose=0,warm_start=False)\n",
        "    clf.fit(df_final_train,y_train)\n",
        "    train_sc = f1_score(y_train,clf.predict(df_final_train))\n",
        "    test_sc = f1_score(y_test,clf.predict(df_final_test))\n",
        "    test_scores.append(test_sc)\n",
        "    train_scores.append(train_sc)\n",
        "    print('depth = ',i,'Train Score',train_sc,'test Score',test_sc)\n",
        "plt.plot(depths,train_scores,label='Train Score')\n",
        "plt.plot(depths,test_scores,label='Test Score')\n",
        "plt.xlabel('Depth')\n",
        "plt.ylabel('Score')\n",
        "plt.title('Depth vs score at depth of 5 at estimators = 115')\n",
        "plt.show()"
      ]
    },
    {
      "cell_type": "code",
      "execution_count": 111,
      "metadata": {
        "colab": {
          "base_uri": "https://localhost:8080/"
        },
        "outputId": "e2d41506-e3f0-4842-e221-2d9d75c32b77",
        "id": "wLG8scz6LO6p"
      },
      "outputs": [
        {
          "output_type": "execute_result",
          "data": {
            "text/plain": [
              "RandomizedSearchCV(cv=5,\n",
              "                   estimator=RandomForestClassifier(n_jobs=-1, random_state=25),\n",
              "                   n_iter=5,\n",
              "                   param_distributions={'max_depth': <scipy.stats._distn_infrastructure.rv_frozen object at 0x7fe6544590d0>,\n",
              "                                        'min_samples_leaf': <scipy.stats._distn_infrastructure.rv_frozen object at 0x7fe65442f110>,\n",
              "                                        'min_samples_split': <scipy.stats._distn_infrastructure.rv_frozen object at 0x7fe654735ed0>,\n",
              "                                        'n_estimators': <scipy.stats._distn_infrastructure.rv_frozen object at 0x7fe654459650>},\n",
              "                   random_state=25, return_train_score=True, scoring='f1')"
            ]
          },
          "metadata": {},
          "execution_count": 111
        }
      ],
      "source": [
        "from sklearn.metrics import f1_score\n",
        "from sklearn.ensemble import RandomForestClassifier\n",
        "from sklearn.metrics import f1_score\n",
        "from sklearn.model_selection import RandomizedSearchCV\n",
        "from scipy.stats import randint as sp_randint\n",
        "from scipy.stats import uniform\n",
        "\n",
        "param_dist = {\"n_estimators\":sp_randint(105,125),\n",
        "              \"max_depth\": sp_randint(10,15),\n",
        "              \"min_samples_split\": sp_randint(110,190),\n",
        "              \"min_samples_leaf\": sp_randint(25,65)}\n",
        "\n",
        "clf = RandomForestClassifier(random_state=25,n_jobs=-1)\n",
        "\n",
        "rf_random = RandomizedSearchCV(clf, param_distributions=param_dist,\n",
        "                                   n_iter=5,cv=5,scoring='f1',random_state=25, return_train_score=True)\n",
        "# https://stackoverflow.com/questions/57136676/sklearn-model-selection-gridsearchcv-is-throwing-keyerror-mean-train-score\n",
        "rf_random.fit(df_final_train,y_train)\n"
      ]
    },
    {
      "cell_type": "code",
      "execution_count": 115,
      "metadata": {
        "colab": {
          "base_uri": "https://localhost:8080/"
        },
        "outputId": "06c12143-be56-44b1-d340-5cef9d449000",
        "id": "p22r20qQLO62"
      },
      "outputs": [
        {
          "output_type": "stream",
          "name": "stdout",
          "text": [
            "mean test scores [0.96230888 0.96147798 0.95999725 0.96116579 0.96358315]\n",
            "mean train scores [0.96310402 0.96222188 0.96046293 0.96187631 0.96451912]\n"
          ]
        }
      ],
      "source": [
        "print('mean test scores',rf_random.cv_results_['mean_test_score'])\n",
        "print('mean train scores',rf_random.cv_results_['mean_train_score'])"
      ]
    },
    {
      "cell_type": "code",
      "execution_count": 116,
      "metadata": {
        "outputId": "55757db5-8f43-4940-b23f-4eaad5dbd7a4",
        "colab": {
          "base_uri": "https://localhost:8080/"
        },
        "id": "OwFBaMSaLO64"
      },
      "outputs": [
        {
          "output_type": "stream",
          "name": "stdout",
          "text": [
            "RandomForestClassifier(max_depth=14, min_samples_leaf=28, min_samples_split=111,\n",
            "                       n_estimators=121, n_jobs=-1, random_state=25)\n"
          ]
        }
      ],
      "source": [
        "print(rf_random.best_estimator_)"
      ]
    },
    {
      "cell_type": "code",
      "execution_count": 117,
      "metadata": {
        "id": "YQvO8A3-LO67"
      },
      "outputs": [],
      "source": [
        "rf_random = RandomForestClassifier(bootstrap=True, class_weight=None, criterion='gini',\n",
        "            max_depth=14, max_features='auto', max_leaf_nodes=None,\n",
        "            min_impurity_decrease=0.0,\n",
        "            min_samples_leaf=28, min_samples_split=111,\n",
        "            min_weight_fraction_leaf=0.0, n_estimators=121, n_jobs=-1,\n",
        "            oob_score=False, random_state=25, verbose=0, warm_start=False)"
      ]
    },
    {
      "cell_type": "code",
      "execution_count": 126,
      "metadata": {
        "id": "3jhxnd4vLO68"
      },
      "outputs": [],
      "source": [
        "rf_random.fit(df_final_train,y_train)\n",
        "y_train_pred = rf_random.predict(df_final_train)\n",
        "y_test_pred = rf_random.predict(df_final_test)"
      ]
    },
    {
      "cell_type": "code",
      "source": [
        "! pwd\n",
        "%cd /content/gdrive/My\\ Drive/Assignments\\ AAIC/Assignment\\ 17\\ FB\\ Friend \\Recommendation"
      ],
      "metadata": {
        "colab": {
          "base_uri": "https://localhost:8080/"
        },
        "outputId": "9fae8016-74a4-430e-fa58-fe14e7182e48",
        "id": "QtI1C0LFLO6w"
      },
      "execution_count": 127,
      "outputs": [
        {
          "output_type": "stream",
          "name": "stdout",
          "text": [
            "/content/gdrive/MyDrive/Assignments AAIC/Assignment 17 FB Friend Recommendation\n",
            "/content/gdrive/My Drive/Assignments AAIC/Assignment 17 FB Friend Recommendation\n"
          ]
        }
      ]
    },
    {
      "cell_type": "code",
      "execution_count": 128,
      "metadata": {
        "id": "3nTAPaqFLO6x"
      },
      "outputs": [],
      "source": [
        "#As running these files takes a lot of time, so storing them in joblib file\n",
        "import joblib\n",
        "\n",
        "with open('/content/gdrive/My Drive/Assignments AAIC/Assignment 17 FB Friend Recommendation/Final/rf_random', 'wb') as files:\n",
        "    pickle.dump(rf_random, files)"
      ]
    },
    {
      "cell_type": "code",
      "execution_count": 129,
      "metadata": {
        "id": "qZCgtcXaLO6z"
      },
      "outputs": [],
      "source": [
        "#As running these files takes a lot of time, so storing them in joblib file\n",
        "import joblib\n",
        "with open('/content/gdrive/My Drive/Assignments AAIC/Assignment 17 FB Friend Recommendation/Final/rf_random', 'rb') as f:\n",
        "    rf_random = joblib.load(f)"
      ]
    },
    {
      "cell_type": "code",
      "execution_count": 130,
      "metadata": {
        "outputId": "5c0c7f70-7ffd-418e-897f-cfd5cc9cffe6",
        "colab": {
          "base_uri": "https://localhost:8080/"
        },
        "id": "tIWLCv1RLO6-"
      },
      "outputs": [
        {
          "output_type": "stream",
          "name": "stdout",
          "text": [
            "Train f1 score 0.964021775493446\n",
            "Test f1 score 0.9236902050113895\n"
          ]
        }
      ],
      "source": [
        "from sklearn.metrics import f1_score\n",
        "print('Train f1 score',f1_score(y_train,y_train_pred))\n",
        "print('Test f1 score',f1_score(y_test,y_test_pred))"
      ]
    },
    {
      "cell_type": "code",
      "execution_count": 131,
      "metadata": {
        "id": "cSCOHVcSLO6_"
      },
      "outputs": [],
      "source": [
        "from sklearn.metrics import confusion_matrix\n",
        "def plot_confusion_matrix(test_y, predict_y):\n",
        "    C = confusion_matrix(test_y, predict_y)\n",
        "    \n",
        "    A =(((C.T)/(C.sum(axis=1))).T)\n",
        "    \n",
        "    B =(C/C.sum(axis=0))\n",
        "    plt.figure(figsize=(20,4))\n",
        "    \n",
        "    labels = [0,1]\n",
        "    # representing A in heatmap format\n",
        "    cmap=sns.light_palette(\"blue\")\n",
        "    plt.subplot(1, 3, 1)\n",
        "    sns.heatmap(C, annot=True, cmap=cmap, fmt=\".3f\", xticklabels=labels, yticklabels=labels)\n",
        "    plt.xlabel('Predicted Class')\n",
        "    plt.ylabel('Original Class')\n",
        "    plt.title(\"Confusion matrix\")\n",
        "    \n",
        "    plt.subplot(1, 3, 2)\n",
        "    sns.heatmap(B, annot=True, cmap=cmap, fmt=\".3f\", xticklabels=labels, yticklabels=labels)\n",
        "    plt.xlabel('Predicted Class')\n",
        "    plt.ylabel('Original Class')\n",
        "    plt.title(\"Precision matrix\")\n",
        "    \n",
        "    plt.subplot(1, 3, 3)\n",
        "    # representing B in heatmap format\n",
        "    sns.heatmap(A, annot=True, cmap=cmap, fmt=\".3f\", xticklabels=labels, yticklabels=labels)\n",
        "    plt.xlabel('Predicted Class')\n",
        "    plt.ylabel('Original Class')\n",
        "    plt.title(\"Recall matrix\")\n",
        "    \n",
        "    plt.show()"
      ]
    },
    {
      "cell_type": "code",
      "execution_count": 132,
      "metadata": {
        "outputId": "b8ea8995-7ffe-4d3f-f73a-270e3e772874",
        "colab": {
          "base_uri": "https://localhost:8080/",
          "height": 608
        },
        "id": "dD4YI7QXLO7B"
      },
      "outputs": [
        {
          "output_type": "stream",
          "name": "stdout",
          "text": [
            "Train confusion_matrix\n"
          ]
        },
        {
          "output_type": "display_data",
          "data": {
            "text/plain": [
              "<Figure size 1440x288 with 6 Axes>"
            ],
            "image/png": "[encoded data removed]"
          },
          "metadata": {
            "needs_background": "light"
          }
        },
        {
          "output_type": "stream",
          "name": "stdout",
          "text": [
            "Test confusion_matrix\n"
          ]
        },
        {
          "output_type": "display_data",
          "data": {
            "text/plain": [
              "<Figure size 1440x288 with 6 Axes>"
            ],
            "image/png": "[encoded data removed]"
          },
          "metadata": {
            "needs_background": "light"
          }
        }
      ],
      "source": [
        "print('Train confusion_matrix')\n",
        "plot_confusion_matrix(y_train,y_train_pred)\n",
        "print('Test confusion_matrix')\n",
        "plot_confusion_matrix(y_test,y_test_pred)"
      ]
    },
    {
      "cell_type": "code",
      "execution_count": 133,
      "metadata": {
        "outputId": "2c9e02f5-66ef-4564-e229-851c9b592bb1",
        "colab": {
          "base_uri": "https://localhost:8080/",
          "height": 295
        },
        "id": "nivyLaV-LO7D"
      },
      "outputs": [
        {
          "output_type": "display_data",
          "data": {
            "text/plain": [
              "<Figure size 432x288 with 1 Axes>"
            ],
            "image/png": "[encoded data removed]"
          },
          "metadata": {
            "needs_background": "light"
          }
        }
      ],
      "source": [
        "from sklearn.metrics import roc_curve, auc\n",
        "fpr,tpr,ths = roc_curve(y_test,y_test_pred)\n",
        "auc_sc = auc(fpr, tpr)\n",
        "plt.plot(fpr, tpr, color='navy',label='ROC curve (area = %0.2f)' % auc_sc)\n",
        "plt.xlabel('False Positive Rate')\n",
        "plt.ylabel('True Positive Rate')\n",
        "plt.title('Receiver operating characteristic with test data')\n",
        "plt.legend()\n",
        "plt.show()"
      ]
    },
    {
      "cell_type": "code",
      "execution_count": 134,
      "metadata": {
        "outputId": "dd735d93-a47f-4b3e-8adc-d9634844cae1",
        "scrolled": false,
        "colab": {
          "base_uri": "https://localhost:8080/",
          "height": 730
        },
        "id": "CH5QuGuKLO7F"
      },
      "outputs": [
        {
          "output_type": "display_data",
          "data": {
            "text/plain": [
              "<Figure size 720x864 with 1 Axes>"
            ],
            "image/png": "[encoded data removed]"
          },
          "metadata": {
            "needs_background": "light"
          }
        }
      ],
      "source": [
        "features = df_final_train.columns\n",
        "importances = rf_random.feature_importances_\n",
        "indices = (np.argsort(importances))[-30:]\n",
        "plt.figure(figsize=(10,12))\n",
        "plt.title('Feature Importances')\n",
        "plt.barh(range(len(indices)), importances[indices], color='r', align='center')\n",
        "plt.yticks(range(len(indices)), [features[i] for i in indices])\n",
        "plt.xlabel('Relative Importance')\n",
        "plt.show()"
      ]
    },
    {
      "cell_type": "markdown",
      "source": [
        "<font color='blue'> <h1> Applying XGBoost Model"
      ],
      "metadata": {
        "id": "cMLoGGSf9KvB"
      }
    },
    {
      "cell_type": "code",
      "source": [
        "import xgboost as xgb\n",
        "from sklearn.model_selection import RandomizedSearchCV\n",
        "from sklearn.metrics import f1_score,make_scorer\n",
        "\n",
        "\n",
        "xgb_model = xgb.XGBClassifier() # Default params \n",
        "params= {\"max_depth\": [1, 2, 4, 6], \"n_estimators\": [5, 20,50]}\n",
        "gbdt = RandomizedSearchCV(xgb_model,params, n_iter=5, scoring='f1', cv=3, return_train_score=True, n_jobs=-1) # running 3 fold cross validation grid search\n",
        "gbdt.fit(df_final_train,y_train) #fitting"
      ],
      "metadata": {
        "colab": {
          "base_uri": "https://localhost:8080/"
        },
        "id": "kApSHM1R9SRH",
        "outputId": "a81e8155-26ed-446f-c9f3-8650629f63d5"
      },
      "execution_count": 135,
      "outputs": [
        {
          "output_type": "execute_result",
          "data": {
            "text/plain": [
              "RandomizedSearchCV(cv=3, estimator=XGBClassifier(), n_iter=5, n_jobs=-1,\n",
              "                   param_distributions={'max_depth': [1, 2, 4, 6],\n",
              "                                        'n_estimators': [5, 20, 50]},\n",
              "                   return_train_score=True, scoring='f1')"
            ]
          },
          "metadata": {},
          "execution_count": 135
        }
      ]
    },
    {
      "cell_type": "code",
      "source": [
        "print('mean test scores',gbdt.cv_results_['mean_test_score'])\n",
        "print('mean train scores',gbdt.cv_results_['mean_train_score'])"
      ],
      "metadata": {
        "colab": {
          "base_uri": "https://localhost:8080/"
        },
        "id": "07kDikPT_e5F",
        "outputId": "3901a665-25c7-4e6e-efdf-44eac2447194"
      },
      "execution_count": 136,
      "outputs": [
        {
          "output_type": "stream",
          "name": "stdout",
          "text": [
            "mean test scores [0.92064807 0.9212666  0.90939362 0.93393896 0.91944166]\n",
            "mean train scores [0.92060962 0.92122149 0.91019882 0.93484829 0.91996065]\n"
          ]
        }
      ]
    },
    {
      "cell_type": "code",
      "source": [
        "print(gbdt.best_estimator_)"
      ],
      "metadata": {
        "colab": {
          "base_uri": "https://localhost:8080/"
        },
        "id": "9s4jO5zu_n_D",
        "outputId": "daa7ddce-5a8d-4276-8496-01aaf0a8821b"
      },
      "execution_count": 137,
      "outputs": [
        {
          "output_type": "stream",
          "name": "stdout",
          "text": [
            "XGBClassifier(max_depth=4, n_estimators=20)\n"
          ]
        }
      ]
    },
    {
      "cell_type": "code",
      "source": [
        "gbdt = xgb.XGBClassifier(base_score=0.5, max_depth=10, min_child_weight=1, missing=None, n_estimators=109,\n",
        "       n_jobs=1, nthread=None, objective='binary:logistic', random_state=0, silent=True, subsample=1)\n",
        "\n",
        "gbdt.fit(df_final_train,y_train)\n",
        "y_train_pred = gbdt.predict(df_final_train)\n",
        "y_test_pred = gbdt.predict(df_final_test)"
      ],
      "metadata": {
        "id": "7dBYMaXd_sZV"
      },
      "execution_count": 138,
      "outputs": []
    },
    {
      "cell_type": "code",
      "source": [
        "from sklearn.metrics import f1_score\n",
        "print('Train f1 score',f1_score(y_train,y_train_pred))\n",
        "print('Test f1 score',f1_score(y_test,y_test_pred))"
      ],
      "metadata": {
        "colab": {
          "base_uri": "https://localhost:8080/"
        },
        "id": "DY6pWh00BkdL",
        "outputId": "a34bcdab-2a70-4743-f391-2efefe614b07"
      },
      "execution_count": 139,
      "outputs": [
        {
          "output_type": "stream",
          "name": "stdout",
          "text": [
            "Train f1 score 0.9913109863286155\n",
            "Test f1 score 0.9279925319302413\n"
          ]
        }
      ]
    },
    {
      "cell_type": "code",
      "execution_count": 140,
      "metadata": {
        "id": "_UzmT5wxdpmH"
      },
      "outputs": [],
      "source": [
        "#As running these files takes a lot of time, so storing them in joblib file\n",
        "import joblib\n",
        "\n",
        "with open('/content/gdrive/My Drive/Assignments AAIC/Assignment 17 FB Friend Recommendation/Final/gbdt', 'wb') as files:\n",
        "    pickle.dump(gbdt, files)"
      ]
    },
    {
      "cell_type": "code",
      "execution_count": 141,
      "metadata": {
        "id": "iIsnGTuKdpmK"
      },
      "outputs": [],
      "source": [
        "#As running these files takes a lot of time, so storing them in joblib file\n",
        "import joblib\n",
        "with open('/content/gdrive/My Drive/Assignments AAIC/Assignment 17 FB Friend Recommendation/Final/gbdt', 'rb') as f:\n",
        "    gbdt = joblib.load(f)"
      ]
    },
    {
      "cell_type": "code",
      "execution_count": 142,
      "metadata": {
        "id": "er8vERUiCRTx"
      },
      "outputs": [],
      "source": [
        "from sklearn.metrics import confusion_matrix\n",
        "def plot_confusion_matrix(test_y, predict_y):\n",
        "    C = confusion_matrix(test_y, predict_y)\n",
        "    \n",
        "    A =(((C.T)/(C.sum(axis=1))).T)\n",
        "    \n",
        "    B =(C/C.sum(axis=0))\n",
        "    plt.figure(figsize=(20,4))\n",
        "    \n",
        "    labels = [0,1]\n",
        "    # representing A in heatmap format\n",
        "    cmap=sns.light_palette(\"blue\")\n",
        "    plt.subplot(1, 3, 1)\n",
        "    sns.heatmap(C, annot=True, cmap=cmap, fmt=\".3f\", xticklabels=labels, yticklabels=labels)\n",
        "    plt.xlabel('Predicted Class')\n",
        "    plt.ylabel('Original Class')\n",
        "    plt.title(\"Confusion matrix\")\n",
        "    \n",
        "    plt.subplot(1, 3, 2)\n",
        "    sns.heatmap(B, annot=True, cmap=cmap, fmt=\".3f\", xticklabels=labels, yticklabels=labels)\n",
        "    plt.xlabel('Predicted Class')\n",
        "    plt.ylabel('Original Class')\n",
        "    plt.title(\"Precision matrix\")\n",
        "    \n",
        "    plt.subplot(1, 3, 3)\n",
        "    # representing B in heatmap format\n",
        "    sns.heatmap(A, annot=True, cmap=cmap, fmt=\".3f\", xticklabels=labels, yticklabels=labels)\n",
        "    plt.xlabel('Predicted Class')\n",
        "    plt.ylabel('Original Class')\n",
        "    plt.title(\"Recall matrix\")\n",
        "    \n",
        "    plt.show()"
      ]
    },
    {
      "cell_type": "code",
      "source": [
        "print('Train confusion_matrix')\n",
        "plot_confusion_matrix(y_train,y_train_pred)\n",
        "print('Test confusion_matrix')\n",
        "plot_confusion_matrix(y_test,y_test_pred)"
      ],
      "metadata": {
        "colab": {
          "base_uri": "https://localhost:8080/",
          "height": 608
        },
        "id": "Fpz8wbWeBs3J",
        "outputId": "172b5844-118f-4507-edff-ae46dc9b2fb9"
      },
      "execution_count": 143,
      "outputs": [
        {
          "output_type": "stream",
          "name": "stdout",
          "text": [
            "Train confusion_matrix\n"
          ]
        },
        {
          "output_type": "display_data",
          "data": {
            "text/plain": [
              "<Figure size 1440x288 with 6 Axes>"
            ],
            "image/png": "[encoded data removed]"
          },
          "metadata": {
            "needs_background": "light"
          }
        },
        {
          "output_type": "stream",
          "name": "stdout",
          "text": [
            "Test confusion_matrix\n"
          ]
        },
        {
          "output_type": "display_data",
          "data": {
            "text/plain": [
              "<Figure size 1440x288 with 6 Axes>"
            ],
            "image/png": "[encoded data removed]"
          },
          "metadata": {
            "needs_background": "light"
          }
        }
      ]
    },
    {
      "cell_type": "code",
      "execution_count": 144,
      "metadata": {
        "outputId": "fa112ba0-c94d-4bd6-eaaa-f90d8197fab1",
        "colab": {
          "base_uri": "https://localhost:8080/",
          "height": 295
        },
        "id": "A3vytPA3B1Ls"
      },
      "outputs": [
        {
          "output_type": "display_data",
          "data": {
            "text/plain": [
              "<Figure size 432x288 with 1 Axes>"
            ],
            "image/png": "[encoded data removed]"
          },
          "metadata": {
            "needs_background": "light"
          }
        }
      ],
      "source": [
        "from sklearn.metrics import roc_curve, auc\n",
        "fpr,tpr,ths = roc_curve(y_test,y_test_pred)\n",
        "auc_sc = auc(fpr, tpr)\n",
        "plt.plot(fpr, tpr, color='navy',label='ROC curve (area = %0.2f)' % auc_sc)\n",
        "plt.xlabel('False Positive Rate')\n",
        "plt.ylabel('True Positive Rate')\n",
        "plt.title('Receiver operating characteristic with test data')\n",
        "plt.legend()\n",
        "plt.show()"
      ]
    },
    {
      "cell_type": "code",
      "execution_count": 146,
      "metadata": {
        "outputId": "dfa333a3-ba0c-4bbf-8571-19995ca31a99",
        "scrolled": false,
        "colab": {
          "base_uri": "https://localhost:8080/",
          "height": 730
        },
        "id": "g2bkmLpIB1Lx"
      },
      "outputs": [
        {
          "output_type": "display_data",
          "data": {
            "text/plain": [
              "<Figure size 720x864 with 1 Axes>"
            ],
            "image/png": "[encoded data removed]"
          },
          "metadata": {
            "needs_background": "light"
          }
        }
      ],
      "source": [
        "features = df_final_train.columns\n",
        "importances = gbdt.feature_importances_\n",
        "indices = (np.argsort(importances))[-35:]\n",
        "plt.figure(figsize=(10,12))\n",
        "plt.title('Feature Importances')\n",
        "plt.barh(range(len(indices)), importances[indices], color='r', align='center')\n",
        "plt.yticks(range(len(indices)), [features[i] for i in indices])\n",
        "plt.xlabel('Relative Importance')\n",
        "plt.show()"
      ]
    },
    {
      "cell_type": "markdown",
      "metadata": {
        "id": "T_xgMAoFv4ot"
      },
      "source": [
        "<font color='blue'><h1>3.  Summary:- "
      ]
    },
    {
      "cell_type": "code",
      "execution_count": 147,
      "metadata": {
        "id": "fSVKa3RviqL3",
        "colab": {
          "base_uri": "https://localhost:8080/"
        },
        "outputId": "a6066279-0bcd-4d80-a5b8-86be42dbe188"
      },
      "outputs": [
        {
          "output_type": "stream",
          "name": "stdout",
          "text": [
            "+--------+---------------+------------------------------------------+---------------------------------+--------------------+\n",
            "| Set.No |     Model     | With or without Preferential and SVD_dot |         Hyper Parameters        |      Test-AUC      |\n",
            "+--------+---------------+------------------------------------------+---------------------------------+--------------------+\n",
            "|   1    | Random Forest |     Without Preferential and SVD_dot     | max_depth =14 , n_estimator=121 | 0.9241678239279553 |\n",
            "+--------+---------------+------------------------------------------+---------------------------------+--------------------+\n",
            "|   2    | Random Forest |      With Preferential and SVD_dot       | max_depth =14 , n_estimator=121 | 0.9236902050113895 |\n",
            "+--------+---------------+------------------------------------------+---------------------------------+--------------------+\n",
            "|   3    |    XGBoost    |      With Preferential and SVD_dot       |   max_depth =6 , n_estimator=5  | 0.9279925319302413 |\n",
            "+--------+---------------+------------------------------------------+---------------------------------+--------------------+\n"
          ]
        }
      ],
      "source": [
        "from prettytable import PrettyTable\n",
        "from prettytable import ALL as ALL\n",
        "table=PrettyTable(hrules=ALL)\n",
        "table.field_names = [ \"Set.No\",\"Model\", \"With or without Preferential and SVD_dot\", \"Hyper Parameters\", \"Test-AUC\"]  # http://zetcode.com/python/prettytable/\n",
        "table.add_row([1,\"Random Forest\", \"Without Preferential and SVD_dot\", \"max_depth =14 , n_estimator=121\", 0.9241678239279553])\n",
        "table.add_row([2, \"Random Forest\", \"With Preferential and SVD_dot\" ,\"max_depth =14 , n_estimator=121\", 0.9236902050113895])\n",
        "table.add_row([3, \"XGBoost\", \"With Preferential and SVD_dot\" ,\"max_depth =6 , n_estimator=5\", 0.9279925319302413])\n",
        "\n",
        "print(table)"
      ]
    },
    {
      "cell_type": "markdown",
      "source": [
        "<font color='blue'><h1>4. Conclusion:-</h1><h2>\n",
        "Adding Preferential Attachments, Svd_dot and applying XGBoost Model won't result in any substantial difference in the Performance of the Model\n",
        "</font>"
      ],
      "metadata": {
        "id": "NNZNzuqQSquZ"
      }
    },
    {
      "cell_type": "code",
      "source": [
        ""
      ],
      "metadata": {
        "id": "cfTQvaetSnoQ"
      },
      "execution_count": null,
      "outputs": []
    }
  ],
  "metadata": {
    "colab": {
      "collapsed_sections": [],
      "name": "Assgn_17_FB_Friend_Rec.ipynb",
      "provenance": []
    },
    "kernelspec": {
      "display_name": "Python 3",
      "language": "python",
      "name": "python3"
    }
  },
  "nbformat": 4,
  "nbformat_minor": 0
}